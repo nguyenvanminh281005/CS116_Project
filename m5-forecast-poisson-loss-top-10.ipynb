{
 "cells": [
  {
   "cell_type": "markdown",
   "metadata": {},
   "source": [
    "# M5 Forecast: Poisson loss (top 10%)\n",
    "\n",
    "This very simple script was lucky enough to get top 10% in private lb. \n",
    "\n",
    "I moved the time horizon of the previous version of this notebook by 28 days and removed all \"magic\" stuff. The winning solutions did clearly better in terms of performance, but simplicity is worth a lot when it comes to maintainance etc."
   ]
  },
  {
   "cell_type": "code",
   "execution_count": 1,
   "metadata": {},
   "outputs": [],
   "source": [
    "import pandas as pd\n",
    "import numpy as np\n",
    "import os\n",
    "import lightgbm as lgb"
   ]
  },
  {
   "cell_type": "code",
   "execution_count": 2,
   "metadata": {},
   "outputs": [
    {
     "name": "stdout",
     "output_type": "stream",
     "text": [
      "Num GPUs Available: 1\n",
      "GPU Details: [PhysicalDevice(name='/physical_device:GPU:0', device_type='GPU')]\n"
     ]
    }
   ],
   "source": [
    "import tensorflow as tf\n",
    "\n",
    "print(\"Num GPUs Available:\", len(tf.config.experimental.list_physical_devices('GPU')))\n",
    "print(\"GPU Details:\", tf.config.experimental.list_physical_devices('GPU'))"
   ]
  },
  {
   "cell_type": "code",
   "execution_count": 3,
   "metadata": {},
   "outputs": [
    {
     "name": "stdout",
     "output_type": "stream",
     "text": [
      "True\n",
      "[PhysicalDevice(name='/physical_device:GPU:0', device_type='GPU')]\n"
     ]
    }
   ],
   "source": [
    "import tensorflow as tf\n",
    "print(tf.test.is_built_with_cuda())  # True nếu TensorFlow có hỗ trợ CUDA\n",
    "print(tf.config.list_physical_devices('GPU'))  # True nếu GPU có thể sử dụng"
   ]
  },
  {
   "cell_type": "code",
   "execution_count": 4,
   "metadata": {},
   "outputs": [
    {
     "name": "stdout",
     "output_type": "stream",
     "text": [
      "Available devices:\n",
      "[LogicalDevice(name='/device:CPU:0', device_type='CPU'), LogicalDevice(name='/device:GPU:0', device_type='GPU')]\n",
      "Default GPU Device: /device:GPU:0\n"
     ]
    }
   ],
   "source": [
    "import tensorflow as tf\n",
    "\n",
    "# Kiểm tra các thiết bị TensorFlow có thể sử dụng\n",
    "print(\"Available devices:\")\n",
    "print(tf.config.list_logical_devices())\n",
    "\n",
    "# Kiểm tra TensorFlow có đang chạy trên GPU không\n",
    "print(\"Default GPU Device:\", tf.test.gpu_device_name())"
   ]
  },
  {
   "cell_type": "code",
   "execution_count": 5,
   "metadata": {},
   "outputs": [
    {
     "name": "stdout",
     "output_type": "stream",
     "text": [
      "Physical devices cannot be modified after being initialized\n",
      "tf.Tensor([5. 7. 9.], shape=(3,), dtype=float32)\n"
     ]
    }
   ],
   "source": [
    "import tensorflow as tf\n",
    "\n",
    "gpus = tf.config.experimental.list_physical_devices('GPU')\n",
    "if gpus:\n",
    "    try:\n",
    "        # Chỉ cho phép TensorFlow sử dụng GPU đầu tiên\n",
    "        tf.config.experimental.set_memory_growth(gpus[0], True)\n",
    "        tf.config.experimental.set_visible_devices(gpus[0], 'GPU')\n",
    "    except RuntimeError as e:\n",
    "        print(e)\n",
    "\n",
    "# Kiểm tra lại thiết bị đang sử dụng\n",
    "with tf.device('/GPU:0'):\n",
    "    a = tf.constant([1.0, 2.0, 3.0])\n",
    "    b = tf.constant([4.0, 5.0, 6.0])\n",
    "    c = a + b\n",
    "    print(c)"
   ]
  },
  {
   "cell_type": "code",
   "execution_count": 6,
   "metadata": {},
   "outputs": [
    {
     "name": "stdout",
     "output_type": "stream",
     "text": [
      "2.10.0\n",
      "True\n",
      "[PhysicalDevice(name='/physical_device:GPU:0', device_type='GPU')]\n"
     ]
    }
   ],
   "source": [
    "import tensorflow as tf\n",
    "print(tf.__version__)\n",
    "print(tf.test.is_built_with_cuda())  # Phải trả về True\n",
    "print(tf.config.list_physical_devices('GPU'))  # Phải có ít nhất một GPU"
   ]
  },
  {
   "cell_type": "code",
   "execution_count": 8,
   "metadata": {},
   "outputs": [
    {
     "name": "stdout",
     "output_type": "stream",
     "text": [
      "Available GPUs: [PhysicalDevice(name='/physical_device:GPU:0', device_type='GPU')]\n",
      "Running on /CPU:0...\n",
      "Time taken on /CPU:0: 3.4244 seconds\n",
      "Running on /GPU:0...\n",
      "Time taken on /GPU:0: 0.0000 seconds\n"
     ]
    }
   ],
   "source": [
    "import tensorflow as tf\n",
    "import time\n",
    "\n",
    "# Kiểm tra GPU có hoạt động không\n",
    "print(\"Available GPUs:\", tf.config.list_physical_devices('GPU'))\n",
    "\n",
    "# Kích thước ma trận lớn\n",
    "MATRIX_SIZE = 10000\n",
    "\n",
    "# Hàm đo thời gian thực thi trên GPU/CPU\n",
    "def benchmark_matmul(device):\n",
    "    with tf.device(device):\n",
    "        print(f\"Running on {device}...\")\n",
    "        a = tf.random.uniform((MATRIX_SIZE, MATRIX_SIZE), minval=0, maxval=1)\n",
    "        b = tf.random.uniform((MATRIX_SIZE, MATRIX_SIZE), minval=0, maxval=1)\n",
    "        \n",
    "        # Đo thời gian nhân ma trận\n",
    "        start_time = time.time()\n",
    "        c = tf.matmul(a, b)\n",
    "        tf.experimental.numpy.copy(c)  # Đảm bảo phép toán được thực thi\n",
    "        end_time = time.time()\n",
    "        \n",
    "        print(f\"Time taken on {device}: {end_time - start_time:.4f} seconds\")\n",
    "\n",
    "# Chạy trên CPU\n",
    "benchmark_matmul('/CPU:0')\n",
    "\n",
    "# Chạy trên GPU nếu có\n",
    "if tf.config.list_physical_devices('GPU'):\n",
    "    benchmark_matmul('/GPU:0')"
   ]
  },
  {
   "cell_type": "markdown",
   "metadata": {},
   "source": [
    "## Load data"
   ]
  },
  {
   "cell_type": "code",
   "execution_count": 9,
   "metadata": {},
   "outputs": [],
   "source": [
    "path = \"./m5-forecasting-accuracy\"\n",
    "\n",
    "calendar = pd.read_csv(os.path.join(path, \"calendar.csv\"))\n",
    "selling_prices = pd.read_csv(os.path.join(path, \"sell_prices.csv\"))\n",
    "sample_submission = pd.read_csv(os.path.join(path, \"sample_submission.csv\"))\n",
    "sales = pd.read_csv(os.path.join(path, \"sales_train_evaluation.csv\"))"
   ]
  },
  {
   "cell_type": "markdown",
   "metadata": {},
   "source": [
    "## Prepare calendar data"
   ]
  },
  {
   "cell_type": "code",
   "execution_count": 10,
   "metadata": {},
   "outputs": [
    {
     "data": {
      "text/html": [
       "<div>\n",
       "<style scoped>\n",
       "    .dataframe tbody tr th:only-of-type {\n",
       "        vertical-align: middle;\n",
       "    }\n",
       "\n",
       "    .dataframe tbody tr th {\n",
       "        vertical-align: top;\n",
       "    }\n",
       "\n",
       "    .dataframe thead th {\n",
       "        text-align: right;\n",
       "    }\n",
       "</style>\n",
       "<table border=\"1\" class=\"dataframe\">\n",
       "  <thead>\n",
       "    <tr style=\"text-align: right;\">\n",
       "      <th></th>\n",
       "      <th>wm_yr_wk</th>\n",
       "      <th>wday</th>\n",
       "      <th>month</th>\n",
       "      <th>year</th>\n",
       "      <th>d</th>\n",
       "      <th>event_name_1</th>\n",
       "      <th>event_name_2</th>\n",
       "      <th>snap_CA</th>\n",
       "      <th>snap_TX</th>\n",
       "      <th>snap_WI</th>\n",
       "    </tr>\n",
       "  </thead>\n",
       "  <tbody>\n",
       "    <tr>\n",
       "      <th>0</th>\n",
       "      <td>11101</td>\n",
       "      <td>1</td>\n",
       "      <td>1</td>\n",
       "      <td>2011</td>\n",
       "      <td>1</td>\n",
       "      <td>1</td>\n",
       "      <td>1</td>\n",
       "      <td>0</td>\n",
       "      <td>0</td>\n",
       "      <td>0</td>\n",
       "    </tr>\n",
       "    <tr>\n",
       "      <th>1</th>\n",
       "      <td>11101</td>\n",
       "      <td>2</td>\n",
       "      <td>1</td>\n",
       "      <td>2011</td>\n",
       "      <td>2</td>\n",
       "      <td>1</td>\n",
       "      <td>1</td>\n",
       "      <td>0</td>\n",
       "      <td>0</td>\n",
       "      <td>0</td>\n",
       "    </tr>\n",
       "    <tr>\n",
       "      <th>2</th>\n",
       "      <td>11101</td>\n",
       "      <td>3</td>\n",
       "      <td>1</td>\n",
       "      <td>2011</td>\n",
       "      <td>3</td>\n",
       "      <td>1</td>\n",
       "      <td>1</td>\n",
       "      <td>0</td>\n",
       "      <td>0</td>\n",
       "      <td>0</td>\n",
       "    </tr>\n",
       "    <tr>\n",
       "      <th>3</th>\n",
       "      <td>11101</td>\n",
       "      <td>4</td>\n",
       "      <td>2</td>\n",
       "      <td>2011</td>\n",
       "      <td>4</td>\n",
       "      <td>1</td>\n",
       "      <td>1</td>\n",
       "      <td>1</td>\n",
       "      <td>1</td>\n",
       "      <td>0</td>\n",
       "    </tr>\n",
       "    <tr>\n",
       "      <th>4</th>\n",
       "      <td>11101</td>\n",
       "      <td>5</td>\n",
       "      <td>2</td>\n",
       "      <td>2011</td>\n",
       "      <td>5</td>\n",
       "      <td>1</td>\n",
       "      <td>1</td>\n",
       "      <td>1</td>\n",
       "      <td>0</td>\n",
       "      <td>1</td>\n",
       "    </tr>\n",
       "  </tbody>\n",
       "</table>\n",
       "</div>"
      ],
      "text/plain": [
       "   wm_yr_wk  wday  month  year  d  event_name_1  event_name_2  snap_CA  \\\n",
       "0     11101     1      1  2011  1             1             1        0   \n",
       "1     11101     2      1  2011  2             1             1        0   \n",
       "2     11101     3      1  2011  3             1             1        0   \n",
       "3     11101     4      2  2011  4             1             1        1   \n",
       "4     11101     5      2  2011  5             1             1        1   \n",
       "\n",
       "   snap_TX  snap_WI  \n",
       "0        0        0  \n",
       "1        0        0  \n",
       "2        0        0  \n",
       "3        1        0  \n",
       "4        0        1  "
      ]
     },
     "execution_count": 10,
     "metadata": {},
     "output_type": "execute_result"
    }
   ],
   "source": [
    "from sklearn.preprocessing import OrdinalEncoder\n",
    "\n",
    "def prep_calendar(df):\n",
    "    df = df.drop([\"date\", \"weekday\", \"event_type_1\", \"event_type_2\"], axis=1)\n",
    "    df = df.assign(d = df.d.str[2:].astype(int))\n",
    "    to_ordinal = [\"event_name_1\", \"event_name_2\"] \n",
    "    df[to_ordinal] = df[to_ordinal].fillna(\"1\")\n",
    "    df[to_ordinal] = OrdinalEncoder(dtype=\"int\").fit_transform(df[to_ordinal]) + 1\n",
    "    to_int8 = [\"wday\", \"month\", \"snap_CA\", \"snap_TX\", \"snap_WI\"] + to_ordinal\n",
    "    df[to_int8] = df[to_int8].astype(\"int8\")\n",
    "    \n",
    "    return df\n",
    "\n",
    "calendar = prep_calendar(calendar)\n",
    "calendar.head()"
   ]
  },
  {
   "cell_type": "code",
   "execution_count": 11,
   "metadata": {},
   "outputs": [],
   "source": [
    "#Downcast in order to save memory\n",
    "def downcast(df):\n",
    "    cols = df.dtypes.index.tolist()\n",
    "    types = df.dtypes.values.tolist()\n",
    "    for i,t in enumerate(types):\n",
    "        if 'int' in str(t):\n",
    "            if df[cols[i]].min() > np.iinfo(np.int8).min and df[cols[i]].max() < np.iinfo(np.int8).max:\n",
    "                df[cols[i]] = df[cols[i]].astype(np.int8)\n",
    "            elif df[cols[i]].min() > np.iinfo(np.int16).min and df[cols[i]].max() < np.iinfo(np.int16).max:\n",
    "                df[cols[i]] = df[cols[i]].astype(np.int16)\n",
    "            elif df[cols[i]].min() > np.iinfo(np.int32).min and df[cols[i]].max() < np.iinfo(np.int32).max:\n",
    "                df[cols[i]] = df[cols[i]].astype(np.int32)\n",
    "            else:\n",
    "                df[cols[i]] = df[cols[i]].astype(np.int64)\n",
    "        elif 'float' in str(t):\n",
    "            if df[cols[i]].min() > np.finfo(np.float16).min and df[cols[i]].max() < np.finfo(np.float16).max:\n",
    "                df[cols[i]] = df[cols[i]].astype(np.float16)\n",
    "            elif df[cols[i]].min() > np.finfo(np.float32).min and df[cols[i]].max() < np.finfo(np.float32).max:\n",
    "                df[cols[i]] = df[cols[i]].astype(np.float32)\n",
    "            else:\n",
    "                df[cols[i]] = df[cols[i]].astype(np.float64)\n",
    "        elif str(t) == 'object':\n",
    "            if cols[i] == 'date':\n",
    "                df[cols[i]] = pd.to_datetime(df[cols[i]], format='%Y-%m-%d')\n",
    "            else:\n",
    "                df[cols[i]] = df[cols[i]].astype('category')\n",
    "    return df"
   ]
  },
  {
   "cell_type": "code",
   "execution_count": 12,
   "metadata": {},
   "outputs": [],
   "source": [
    "# Calculate memory usage before running the function\n",
    "memory_before = {\n",
    "    'calendar': calendar.memory_usage(deep=True).sum(),\n",
    "    'sales': sales.memory_usage(deep=True).sum(),\n",
    "    'prices': selling_prices.memory_usage(deep=True).sum()\n",
    "}\n",
    "\n",
    "sales = downcast(sales)\n",
    "prices = downcast(selling_prices)\n",
    "calendar = downcast(calendar)\n",
    "\n",
    "memory_after = {\n",
    "    'calendar': calendar.memory_usage(deep=True).sum(),\n",
    "    'sales': sales.memory_usage(deep=True).sum(),\n",
    "    'prices': prices.memory_usage(deep=True).sum()\n",
    "}"
   ]
  },
  {
   "cell_type": "code",
   "execution_count": 13,
   "metadata": {},
   "outputs": [
    {
     "data": {
      "image/png": "[encoded data removed]",
      "text/plain": [
       "<Figure size 640x480 with 1 Axes>"
      ]
     },
     "metadata": {},
     "output_type": "display_data"
    }
   ],
   "source": [
    "import matplotlib.pyplot as plt\n",
    "# Convert memory usage to MB and format to 2 decimal places\n",
    "memory_before_mb = {key: round(value / (1024 ** 2), 1) for key, value in memory_before.items()}\n",
    "memory_after_mb = {key: round(value / (1024 ** 2), 1) for key, value in memory_after.items()}\n",
    "\n",
    "# Plotting the memory usage\n",
    "labels = list(memory_before_mb.keys())\n",
    "before_values = list(memory_before_mb.values())\n",
    "after_values = list(memory_after_mb.values())\n",
    "\n",
    "x = range(len(labels))\n",
    "w = 0.4\n",
    "\n",
    "plt.bar(x, after_values, width=w, label='Before DC', align='center')\n",
    "plt.bar([p + w for p in x], before_values, width=w, label='After DC', align='center')\n",
    "\n",
    "# Adding values on top of the columns\n",
    "for i in range(len(labels)):\n",
    "    plt.text(i, after_values[i], f'{after_values[i]:.1f} MB', ha='center', va='bottom')\n",
    "    plt.text(i + w, before_values[i], f'{before_values[i]:.1f} MB', ha='center', va='bottom')\n",
    "\n",
    "plt.xlabel('DataFrames')\n",
    "plt.ylabel('Memory Usage (MB)')\n",
    "plt.title('Memory Usage of DataFrames Before and After Function Execution')\n",
    "plt.xticks([p + 0.2 for p in x], labels)\n",
    "plt.legend()\n",
    "plt.show()"
   ]
  },
  {
   "cell_type": "markdown",
   "metadata": {},
   "source": [
    "## Helper functions\n",
    "\n",
    "We need the following functions."
   ]
  },
  {
   "cell_type": "code",
   "execution_count": 14,
   "metadata": {},
   "outputs": [],
   "source": [
    "from sklearn.model_selection import train_test_split\n",
    "\n",
    "LAGS = [7, 28]\n",
    "WINDOWS = [7, 28]\n",
    "FIRST = 1942 # first to predict\n",
    "LENGTH = 28\n",
    "\n",
    "def demand_features(df):\n",
    "    \"\"\" Derive features from sales data and remove rows with missing values \"\"\"\n",
    "    \n",
    "    for lag in LAGS:\n",
    "        df[f'lag_t{lag}'] = df.groupby('id')['demand'].transform(lambda x: x.shift(lag)).astype(\"float32\")\n",
    "        for w in WINDOWS:\n",
    "            df[f'rolling_mean_lag{lag}_w{w}'] = df.groupby('id')[f'lag_t{lag}'].transform(lambda x: x.rolling(w).mean()).astype(\"float32\")\n",
    "        \n",
    "    return df\n",
    "\n",
    "def demand_features_eval(df):\n",
    "    \"\"\" Same as demand_features but for the step-by-step evaluation \"\"\"\n",
    "    out = df.groupby('id', sort=False).last()\n",
    "    for lag in LAGS:\n",
    "        out[f'lag_t{lag}'] = df.groupby('id', sort=False)['demand'].nth(-lag-1).astype(\"float32\")\n",
    "        for w in WINDOWS:\n",
    "            out[f'rolling_mean_lag{lag}_w{w}'] = df.groupby('id', sort=False)['demand'].nth(list(range(-lag-w, -lag))).groupby('id', sort=False).mean().astype(\"float32\")\n",
    "    \n",
    "    return out.reset_index()\n",
    "\n",
    "def prep_data(df, drop_d=1000):\n",
    "    \"\"\" Prepare model data sets \"\"\"\n",
    "    \n",
    "    # Kick out old dates\n",
    "    df = df.drop([\"d_\" + str(i+1) for i in range(drop_d)], axis=1)\n",
    "\n",
    "    # Reshape to long\n",
    "    df = df.assign(id=df.id.str.replace(\"_evaluation\", \"\"))\n",
    "    df = df.reindex(columns=df.columns.tolist() + [\"d_\" + str(FIRST + i) for i in range(LENGTH)])\n",
    "    df = df.melt(id_vars=[\"id\", \"item_id\", \"store_id\", \"state_id\", \"dept_id\", \"cat_id\"], var_name='d', value_name='demand')\n",
    "    df = df.assign(d=df.d.str[2:].astype(\"int64\"),\n",
    "                   demand=df.demand.astype(\"float32\"))\n",
    "    \n",
    "    # Add demand features\n",
    "    df = demand_features(df)\n",
    "    \n",
    "    # Remove rows with NAs\n",
    "    df = df[df.d > (drop_d + max(LAGS) + max(WINDOWS))]\n",
    " \n",
    "    # Join calendar & prices\n",
    "    df = df.merge(calendar, how=\"left\", on=\"d\")\n",
    "    df = df.merge(selling_prices, how=\"left\", on=[\"store_id\", \"item_id\", \"wm_yr_wk\"])\n",
    "    df = df.drop([\"wm_yr_wk\"], axis=1)\n",
    "    \n",
    "    # Ordinal encoding of remaining categorical fields\n",
    "    for v in [\"item_id\", \"store_id\", \"state_id\", \"dept_id\", \"cat_id\"]:\n",
    "        df[v] = OrdinalEncoder(dtype=\"int\").fit_transform(df[[v]]).astype(\"int16\") + 1\n",
    "    \n",
    "    # Determine list of covariables\n",
    "    x = list(set(df.columns) - {'id', 'd', 'demand'})\n",
    "            \n",
    "    # Split into test, valid, train\n",
    "    test = df[df.d >= FIRST - max(LAGS) - max(WINDOWS) - 28]\n",
    "    df = df[df.d < FIRST]\n",
    "\n",
    "    xtrain, xvalid, ytrain, yvalid = train_test_split(df[x], df[\"demand\"], test_size=0.1, shuffle=True, random_state=54)\n",
    "    train = lgb.Dataset(xtrain, label = ytrain)\n",
    "    valid = lgb.Dataset(xvalid, label = yvalid)\n",
    "\n",
    "    return train, valid, test, x\n",
    "\n",
    "def fit_model(train, valid):\n",
    "    \"\"\" Fit LightGBM model \"\"\"\n",
    "     \n",
    "    params = {\n",
    "        'metric': 'rmse',\n",
    "        'objective': 'poisson',\n",
    "        'seed': 200,\n",
    "        'force_row_wise' : True,\n",
    "        'learning_rate' : 0.08,\n",
    "        'lambda': 0.1,\n",
    "        'num_leaves': 63,\n",
    "        'sub_row' : 0.7,\n",
    "        'bagging_freq' : 1,\n",
    "        'colsample_bytree': 0.7\n",
    "    }\n",
    "\n",
    "    fit = lgb.train(params, \n",
    "                    train, \n",
    "                    num_boost_round = 2000, \n",
    "                    valid_sets = [valid], \n",
    "                    early_stopping_rounds = 200,\n",
    "                    verbose_eval = 100)\n",
    "    \n",
    "    lgb.plot_importance(fit, importance_type=\"gain\", precision=0, height=0.5, figsize=(6, 10));\n",
    "    \n",
    "    return fit\n",
    "\n",
    "def pred_all(fit, test, x):\n",
    "    \"\"\" Calculate predictions \"\"\"\n",
    "    \n",
    "    # Recursive prediction\n",
    "    for i, day in enumerate(np.arange(FIRST, FIRST + LENGTH)):\n",
    "        test_day = demand_features_eval(test[(test.d <= day) & (test.d >= day - max(LAGS) - max(WINDOWS))])\n",
    "        test.loc[test.d == day, \"demand\"] = fit.predict(test_day[x])\n",
    "    \n",
    "    return test\n",
    "\n",
    "def pred_to_csv(test, cols=sample_submission.columns, file=\"submission.csv\"):\n",
    "    \"\"\" Reshape predictions and save submission csv \"\"\"\n",
    "     \n",
    "    # Prepare for reshaping\n",
    "    test = test.assign(id=test.id + \"_\" + np.where(test.d < FIRST, \"validation\", \"evaluation\"),\n",
    "                       F=\"F\" + (test.d - FIRST + LENGTH + 1 - LENGTH * (test.d >= FIRST)).astype(\"str\"))\n",
    "    \n",
    "    # Reshape\n",
    "    submission = test.pivot(index=\"id\", columns=\"F\", values=\"demand\").reset_index()[cols].fillna(1)\n",
    "    \n",
    "    # Export\n",
    "    submission.to_csv(file, index=False)\n",
    "    \n",
    "    return True"
   ]
  },
  {
   "cell_type": "markdown",
   "metadata": {},
   "source": [
    "## Run the code"
   ]
  },
  {
   "cell_type": "code",
   "execution_count": 15,
   "metadata": {},
   "outputs": [
    {
     "data": {
      "text/plain": [
       "3455"
      ]
     },
     "execution_count": 15,
     "metadata": {},
     "output_type": "execute_result"
    }
   ],
   "source": [
    "import gc\n",
    "\n",
    "# Force garbage collection\n",
    "gc.collect()"
   ]
  },
  {
   "cell_type": "code",
   "execution_count": 18,
   "metadata": {},
   "outputs": [],
   "source": [
    "import os\n",
    "os.environ[\"CUDA_VISIBLE_DEVICES\"] = \"0\"  # Chỉ dùng GPU số 0"
   ]
  },
  {
   "cell_type": "code",
   "execution_count": 16,
   "metadata": {},
   "outputs": [
    {
     "name": "stderr",
     "output_type": "stream",
     "text": [
      "c:\\Users\\Admin\\anaconda3\\envs\\GPU\\lib\\site-packages\\lightgbm\\engine.py:181: UserWarning: 'early_stopping_rounds' argument is deprecated and will be removed in a future release of LightGBM. Pass 'early_stopping()' callback via 'callbacks' argument instead.\n",
      "  _log_warning(\"'early_stopping_rounds' argument is deprecated and will be removed in a future release of LightGBM. \"\n",
      "c:\\Users\\Admin\\anaconda3\\envs\\GPU\\lib\\site-packages\\lightgbm\\engine.py:239: UserWarning: 'verbose_eval' argument is deprecated and will be removed in a future release of LightGBM. Pass 'log_evaluation()' callback via 'callbacks' argument instead.\n",
      "  _log_warning(\"'verbose_eval' argument is deprecated and will be removed in a future release of LightGBM. \"\n"
     ]
    },
    {
     "name": "stdout",
     "output_type": "stream",
     "text": [
      "[LightGBM] [Info] Total Bins 1783\n",
      "[LightGBM] [Info] Number of data points in the train set: 25053633, number of used features: 20\n",
      "[LightGBM] [Info] Start training from score 0.206062\n",
      "Training until validation scores don't improve for 200 rounds\n",
      "[100]\tvalid_0's rmse: 2.25724\n",
      "[200]\tvalid_0's rmse: 2.22905\n",
      "[300]\tvalid_0's rmse: 2.20597\n",
      "[400]\tvalid_0's rmse: 2.19306\n",
      "[500]\tvalid_0's rmse: 2.18202\n",
      "[600]\tvalid_0's rmse: 2.17354\n",
      "[700]\tvalid_0's rmse: 2.16965\n",
      "[800]\tvalid_0's rmse: 2.16431\n",
      "[900]\tvalid_0's rmse: 2.15834\n",
      "[1000]\tvalid_0's rmse: 2.1535\n",
      "[1100]\tvalid_0's rmse: 2.15099\n",
      "[1200]\tvalid_0's rmse: 2.14827\n",
      "[1300]\tvalid_0's rmse: 2.14425\n",
      "[1400]\tvalid_0's rmse: 2.14074\n",
      "[1500]\tvalid_0's rmse: 2.13829\n",
      "[1600]\tvalid_0's rmse: 2.13622\n",
      "[1700]\tvalid_0's rmse: 2.13363\n",
      "[1800]\tvalid_0's rmse: 2.13198\n",
      "[1900]\tvalid_0's rmse: 2.13029\n",
      "[2000]\tvalid_0's rmse: 2.12839\n",
      "Did not meet early stopping. Best iteration is:\n",
      "[1996]\tvalid_0's rmse: 2.12826\n"
     ]
    },
    {
     "data": {
      "text/plain": [
       "True"
      ]
     },
     "execution_count": 16,
     "metadata": {},
     "output_type": "execute_result"
    },
    {
     "data": {
      "image/png": "[encoded data removed]",
      "text/plain": [
       "<Figure size 600x1000 with 1 Axes>"
      ]
     },
     "metadata": {},
     "output_type": "display_data"
    }
   ],
   "source": [
    "train, valid, test, x = prep_data(sales, 1000 - 28)\n",
    "fit = fit_model(train, valid)\n",
    "pred = pred_all(fit, test, x)\n",
    "pred_to_csv(pred, cols=sample_submission.columns, file=\"submission.csv\")"
   ]
  },
  {
   "cell_type": "code",
   "execution_count": 17,
   "metadata": {},
   "outputs": [
    {
     "name": "stdout",
     "output_type": "stream",
     "text": [
      "Num GPUs Available: 1\n",
      "GPU Details: [PhysicalDevice(name='/physical_device:GPU:0', device_type='GPU')]\n"
     ]
    }
   ],
   "source": [
    "import tensorflow as tf\n",
    "\n",
    "print(\"Num GPUs Available:\", len(tf.config.experimental.list_physical_devices('GPU')))\n",
    "print(\"GPU Details:\", tf.config.experimental.list_physical_devices('GPU'))"
   ]
  },
  {
   "cell_type": "code",
   "execution_count": null,
   "metadata": {},
   "outputs": [],
   "source": []
  }
 ],
 "metadata": {
  "kernelspec": {
   "display_name": "GPU",
   "language": "python",
   "name": "python3"
  },
  "language_info": {
   "codemirror_mode": {
    "name": "ipython",
    "version": 3
   },
   "file_extension": ".py",
   "mimetype": "text/x-python",
   "name": "python",
   "nbconvert_exporter": "python",
   "pygments_lexer": "ipython3",
   "version": "3.9.21"
  }
 },
 "nbformat": 4,
 "nbformat_minor": 4
}
