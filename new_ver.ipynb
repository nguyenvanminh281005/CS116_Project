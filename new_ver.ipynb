{
 "cells": [
  {
   "cell_type": "code",
   "execution_count": 1,
   "metadata": {},
   "outputs": [],
   "source": [
    "import pandas as pd\n",
    "import numpy as np\n",
    "from sklearn.model_selection import train_test_split\n",
    "from sklearn.preprocessing import OrdinalEncoder\n",
    "from sklearn.impute import SimpleImputer\n",
    "from lightgbm import LGBMRegressor\n",
    "from lightgbm.callback import early_stopping, log_evaluation\n",
    "from sklearn.metrics import mean_squared_error"
   ]
  },
  {
   "cell_type": "code",
   "execution_count": 2,
   "metadata": {},
   "outputs": [
    {
     "name": "stdout",
     "output_type": "stream",
     "text": [
      "65\n"
     ]
    }
   ],
   "source": [
    "np.random.seed(23520945)\n",
    "print(np.random.randint(1,100))"
   ]
  },
  {
   "cell_type": "code",
   "execution_count": 3,
   "metadata": {},
   "outputs": [],
   "source": [
    "train = pd.read_csv('train_srhm.csv')"
   ]
  },
  {
   "cell_type": "code",
   "execution_count": 4,
   "metadata": {},
   "outputs": [],
   "source": [
    "# Convert 'timestamp' to datetime and extract useful features\n",
    "train['timestamp'] = pd.to_datetime(train['timestamp'])\n",
    "train['year'] = train['timestamp'].dt.year\n",
    "train['month'] = train['timestamp'].dt.month\n",
    "train['day'] = train['timestamp'].dt.day\n",
    "train.drop(columns=['timestamp'], inplace=True)  # Drop original timestamp\n",
    "\n",
    "# Identify categorical columns\n",
    "categorical_cols = train.select_dtypes(include=['object']).columns.tolist()\n",
    "\n",
    "# Apply Ordinal Encoding to categorical columns\n",
    "encoder = OrdinalEncoder(handle_unknown='use_encoded_value', unknown_value=-1)\n",
    "train[categorical_cols] = encoder.fit_transform(train[categorical_cols])\n",
    "\n",
    "# Replace boolean-like categorical columns with integers\n",
    "boolean_cols = [col for col in train.columns if train[col].dtype == 'bool']\n",
    "train[boolean_cols] = train[boolean_cols].astype(int)\n",
    "\n",
    "# Handle missing values (Imputation with median)\n",
    "imputer = SimpleImputer(strategy='median')\n",
    "train = pd.DataFrame(imputer.fit_transform(train), columns=train.columns)"
   ]
  },
  {
   "cell_type": "code",
   "execution_count": 5,
   "metadata": {},
   "outputs": [],
   "source": [
    "y = train['price_doc']\n",
    "X = train.drop('price_doc', axis=1)   "
   ]
  },
  {
   "cell_type": "code",
   "execution_count": 6,
   "metadata": {},
   "outputs": [
    {
     "name": "stdout",
     "output_type": "stream",
     "text": [
      "[LightGBM] [Warning] feature_fraction is set=0.8, colsample_bytree=1.0 will be ignored. Current value: feature_fraction=0.8\n",
      "[LightGBM] [Warning] min_data_in_leaf is set=20, min_child_samples=20 will be ignored. Current value: min_data_in_leaf=20\n",
      "[LightGBM] [Warning] bagging_fraction is set=0.8, subsample=1.0 will be ignored. Current value: bagging_fraction=0.8\n",
      "[LightGBM] [Warning] bagging_freq is set=1, subsample_freq=0 will be ignored. Current value: bagging_freq=1\n",
      "Training until validation scores don't improve for 100 rounds\n",
      "[100]\tvalid_0's l2: 9.86837e+12\n",
      "[200]\tvalid_0's l2: 7.42674e+12\n",
      "[300]\tvalid_0's l2: 6.67865e+12\n",
      "[400]\tvalid_0's l2: 6.38954e+12\n",
      "[500]\tvalid_0's l2: 6.22453e+12\n",
      "[600]\tvalid_0's l2: 6.12074e+12\n",
      "[700]\tvalid_0's l2: 6.05363e+12\n",
      "[800]\tvalid_0's l2: 6.01262e+12\n",
      "[900]\tvalid_0's l2: 5.98547e+12\n",
      "[1000]\tvalid_0's l2: 5.98003e+12\n",
      "Did not meet early stopping. Best iteration is:\n",
      "[998]\tvalid_0's l2: 5.97865e+12\n",
      "RMSE: 2445127.75\n"
     ]
    }
   ],
   "source": [
    "# Assuming X and y are preprocessed\n",
    "X_train, X_val, y_train, y_val = train_test_split(X, y, test_size=0.2, random_state=42)\n",
    "\n",
    "# Instantiate the model\n",
    "lgbm = LGBMRegressor(\n",
    "    n_estimators=1000,\n",
    "    learning_rate=0.01,\n",
    "    num_leaves=31,\n",
    "    max_depth=7,\n",
    "    feature_fraction=0.8,\n",
    "    bagging_fraction=0.8,\n",
    "    bagging_freq=1,\n",
    "    min_data_in_leaf=20\n",
    ")\n",
    "\n",
    "# Train the model\n",
    "lgbm.fit(\n",
    "    X_train, y_train, \n",
    "    eval_set=[(X_val, y_val)], \n",
    "    callbacks=[early_stopping(stopping_rounds=100), log_evaluation(period=100)]\n",
    ")\n",
    "# Make predictions and evaluate\n",
    "y_pred = lgbm.predict(X_val)\n",
    "rmse = mean_squared_error(y_val, y_pred) ** 0.5\n",
    "print(f\"RMSE: {rmse:.2f}\")"
   ]
  },
  {
   "cell_type": "code",
   "execution_count": 7,
   "metadata": {},
   "outputs": [
    {
     "name": "stderr",
     "output_type": "stream",
     "text": [
      "[I 2025-03-21 08:42:22,143] A new study created in memory with name: no-name-827df2a9-8fd9-454e-9d30-b8a42819d96d\n"
     ]
    },
    {
     "name": "stdout",
     "output_type": "stream",
     "text": [
      "[LightGBM] [Warning] feature_fraction is set=0.9311745302041092, colsample_bytree=1.0 will be ignored. Current value: feature_fraction=0.9311745302041092\n",
      "[LightGBM] [Warning] min_data_in_leaf is set=32, min_child_samples=20 will be ignored. Current value: min_data_in_leaf=32\n",
      "Training until validation scores don't improve for 100 rounds\n"
     ]
    },
    {
     "name": "stderr",
     "output_type": "stream",
     "text": [
      "[I 2025-03-21 08:42:23,120] Trial 0 finished with value: 3899613.151109212 and parameters: {'n_estimators': 112, 'learning_rate': 0.002925791067777075, 'num_leaves': 35, 'max_depth': 9, 'min_data_in_leaf': 32, 'feature_fraction': 0.9311745302041092}. Best is trial 0 with value: 3899613.151109212.\n"
     ]
    },
    {
     "name": "stdout",
     "output_type": "stream",
     "text": [
      "Did not meet early stopping. Best iteration is:\n",
      "[112]\tvalid_0's l2: 1.5207e+13\n",
      "[LightGBM] [Warning] feature_fraction is set=0.9535645706079817, colsample_bytree=1.0 will be ignored. Current value: feature_fraction=0.9535645706079817\n",
      "[LightGBM] [Warning] min_data_in_leaf is set=40, min_child_samples=20 will be ignored. Current value: min_data_in_leaf=40\n",
      "Training until validation scores don't improve for 100 rounds\n"
     ]
    },
    {
     "name": "stderr",
     "output_type": "stream",
     "text": [
      "[I 2025-03-21 08:42:27,689] Trial 1 finished with value: 3208860.0265138247 and parameters: {'n_estimators': 541, 'learning_rate': 0.001592649440210343, 'num_leaves': 44, 'max_depth': 7, 'min_data_in_leaf': 40, 'feature_fraction': 0.9535645706079817}. Best is trial 1 with value: 3208860.0265138247.\n"
     ]
    },
    {
     "name": "stdout",
     "output_type": "stream",
     "text": [
      "Did not meet early stopping. Best iteration is:\n",
      "[541]\tvalid_0's l2: 1.02968e+13\n",
      "[LightGBM] [Warning] feature_fraction is set=0.7247934611844826, colsample_bytree=1.0 will be ignored. Current value: feature_fraction=0.7247934611844826\n",
      "[LightGBM] [Warning] min_data_in_leaf is set=43, min_child_samples=20 will be ignored. Current value: min_data_in_leaf=43\n",
      "Training until validation scores don't improve for 100 rounds\n"
     ]
    },
    {
     "name": "stderr",
     "output_type": "stream",
     "text": [
      "[I 2025-03-21 08:42:28,575] Trial 2 finished with value: 3890945.450741509 and parameters: {'n_estimators': 369, 'learning_rate': 0.001254896448003695, 'num_leaves': 36, 'max_depth': 3, 'min_data_in_leaf': 43, 'feature_fraction': 0.7247934611844826}. Best is trial 1 with value: 3208860.0265138247.\n"
     ]
    },
    {
     "name": "stdout",
     "output_type": "stream",
     "text": [
      "Did not meet early stopping. Best iteration is:\n",
      "[369]\tvalid_0's l2: 1.51395e+13\n",
      "[LightGBM] [Warning] feature_fraction is set=0.8622442087472194, colsample_bytree=1.0 will be ignored. Current value: feature_fraction=0.8622442087472194\n",
      "[LightGBM] [Warning] min_data_in_leaf is set=29, min_child_samples=20 will be ignored. Current value: min_data_in_leaf=29\n",
      "Training until validation scores don't improve for 100 rounds\n"
     ]
    },
    {
     "name": "stderr",
     "output_type": "stream",
     "text": [
      "[I 2025-03-21 08:42:30,107] Trial 3 finished with value: 2497254.2277604747 and parameters: {'n_estimators': 747, 'learning_rate': 0.027607530777847358, 'num_leaves': 20, 'max_depth': 3, 'min_data_in_leaf': 29, 'feature_fraction': 0.8622442087472194}. Best is trial 3 with value: 2497254.2277604747.\n"
     ]
    },
    {
     "name": "stdout",
     "output_type": "stream",
     "text": [
      "Did not meet early stopping. Best iteration is:\n",
      "[709]\tvalid_0's l2: 6.23628e+12\n",
      "[LightGBM] [Warning] feature_fraction is set=0.7397372325481544, colsample_bytree=1.0 will be ignored. Current value: feature_fraction=0.7397372325481544\n",
      "[LightGBM] [Warning] min_data_in_leaf is set=11, min_child_samples=20 will be ignored. Current value: min_data_in_leaf=11\n",
      "Training until validation scores don't improve for 100 rounds\n"
     ]
    },
    {
     "name": "stderr",
     "output_type": "stream",
     "text": [
      "[I 2025-03-21 08:42:31,753] Trial 4 finished with value: 2491604.7301440774 and parameters: {'n_estimators': 749, 'learning_rate': 0.022577302265189288, 'num_leaves': 42, 'max_depth': 3, 'min_data_in_leaf': 11, 'feature_fraction': 0.7397372325481544}. Best is trial 4 with value: 2491604.7301440774.\n"
     ]
    },
    {
     "name": "stdout",
     "output_type": "stream",
     "text": [
      "Did not meet early stopping. Best iteration is:\n",
      "[739]\tvalid_0's l2: 6.20809e+12\n",
      "[LightGBM] [Warning] feature_fraction is set=0.9651423328198067, colsample_bytree=1.0 will be ignored. Current value: feature_fraction=0.9651423328198067\n",
      "[LightGBM] [Warning] min_data_in_leaf is set=32, min_child_samples=20 will be ignored. Current value: min_data_in_leaf=32\n",
      "Training until validation scores don't improve for 100 rounds\n"
     ]
    },
    {
     "name": "stderr",
     "output_type": "stream",
     "text": [
      "[I 2025-03-21 08:42:33,249] Trial 5 finished with value: 2882567.289978794 and parameters: {'n_estimators': 433, 'learning_rate': 0.0041409849382195935, 'num_leaves': 29, 'max_depth': 4, 'min_data_in_leaf': 32, 'feature_fraction': 0.9651423328198067}. Best is trial 4 with value: 2491604.7301440774.\n"
     ]
    },
    {
     "name": "stdout",
     "output_type": "stream",
     "text": [
      "Did not meet early stopping. Best iteration is:\n",
      "[433]\tvalid_0's l2: 8.30919e+12\n",
      "[LightGBM] [Warning] feature_fraction is set=0.806777198834273, colsample_bytree=1.0 will be ignored. Current value: feature_fraction=0.806777198834273\n",
      "[LightGBM] [Warning] min_data_in_leaf is set=19, min_child_samples=20 will be ignored. Current value: min_data_in_leaf=19\n",
      "Training until validation scores don't improve for 100 rounds\n"
     ]
    },
    {
     "name": "stderr",
     "output_type": "stream",
     "text": [
      "[I 2025-03-21 08:42:36,033] Trial 6 finished with value: 3231487.600455878 and parameters: {'n_estimators': 424, 'learning_rate': 0.002039727988337576, 'num_leaves': 40, 'max_depth': 9, 'min_data_in_leaf': 19, 'feature_fraction': 0.806777198834273}. Best is trial 4 with value: 2491604.7301440774.\n"
     ]
    },
    {
     "name": "stdout",
     "output_type": "stream",
     "text": [
      "Did not meet early stopping. Best iteration is:\n",
      "[424]\tvalid_0's l2: 1.04425e+13\n",
      "[LightGBM] [Warning] feature_fraction is set=0.7389256602563131, colsample_bytree=1.0 will be ignored. Current value: feature_fraction=0.7389256602563131\n",
      "[LightGBM] [Warning] min_data_in_leaf is set=31, min_child_samples=20 will be ignored. Current value: min_data_in_leaf=31\n",
      "Training until validation scores don't improve for 100 rounds\n"
     ]
    },
    {
     "name": "stderr",
     "output_type": "stream",
     "text": [
      "[I 2025-03-21 08:42:38,711] Trial 7 finished with value: 3195507.3556165313 and parameters: {'n_estimators': 332, 'learning_rate': 0.0028142967490102943, 'num_leaves': 35, 'max_depth': 9, 'min_data_in_leaf': 31, 'feature_fraction': 0.7389256602563131}. Best is trial 4 with value: 2491604.7301440774.\n"
     ]
    },
    {
     "name": "stdout",
     "output_type": "stream",
     "text": [
      "Did not meet early stopping. Best iteration is:\n",
      "[332]\tvalid_0's l2: 1.02113e+13\n",
      "[LightGBM] [Warning] feature_fraction is set=0.8048093590098886, colsample_bytree=1.0 will be ignored. Current value: feature_fraction=0.8048093590098886\n",
      "[LightGBM] [Warning] min_data_in_leaf is set=24, min_child_samples=20 will be ignored. Current value: min_data_in_leaf=24\n",
      "Training until validation scores don't improve for 100 rounds\n"
     ]
    },
    {
     "name": "stderr",
     "output_type": "stream",
     "text": [
      "[I 2025-03-21 08:42:40,149] Trial 8 finished with value: 4074237.8315671165 and parameters: {'n_estimators': 207, 'learning_rate': 0.0011808174661370196, 'num_leaves': 35, 'max_depth': 10, 'min_data_in_leaf': 24, 'feature_fraction': 0.8048093590098886}. Best is trial 4 with value: 2491604.7301440774.\n"
     ]
    },
    {
     "name": "stdout",
     "output_type": "stream",
     "text": [
      "Did not meet early stopping. Best iteration is:\n",
      "[207]\tvalid_0's l2: 1.65994e+13\n",
      "[LightGBM] [Warning] feature_fraction is set=0.7531874140126755, colsample_bytree=1.0 will be ignored. Current value: feature_fraction=0.7531874140126755\n",
      "[LightGBM] [Warning] min_data_in_leaf is set=14, min_child_samples=20 will be ignored. Current value: min_data_in_leaf=14\n",
      "Training until validation scores don't improve for 100 rounds\n"
     ]
    },
    {
     "name": "stderr",
     "output_type": "stream",
     "text": [
      "[I 2025-03-21 08:42:41,570] Trial 9 finished with value: 2472269.953948316 and parameters: {'n_estimators': 924, 'learning_rate': 0.03858665166528735, 'num_leaves': 33, 'max_depth': 3, 'min_data_in_leaf': 14, 'feature_fraction': 0.7531874140126755}. Best is trial 9 with value: 2472269.953948316.\n"
     ]
    },
    {
     "name": "stdout",
     "output_type": "stream",
     "text": [
      "Early stopping, best iteration is:\n",
      "[708]\tvalid_0's l2: 6.11212e+12\n",
      "[LightGBM] [Warning] feature_fraction is set=0.8783080741433085, colsample_bytree=1.0 will be ignored. Current value: feature_fraction=0.8783080741433085\n",
      "[LightGBM] [Warning] min_data_in_leaf is set=10, min_child_samples=20 will be ignored. Current value: min_data_in_leaf=10\n",
      "Training until validation scores don't improve for 100 rounds\n"
     ]
    },
    {
     "name": "stderr",
     "output_type": "stream",
     "text": [
      "[I 2025-03-21 08:42:42,985] Trial 10 finished with value: 2502555.764297141 and parameters: {'n_estimators': 992, 'learning_rate': 0.09340228249865033, 'num_leaves': 48, 'max_depth': 5, 'min_data_in_leaf': 10, 'feature_fraction': 0.8783080741433085}. Best is trial 9 with value: 2472269.953948316.\n"
     ]
    },
    {
     "name": "stdout",
     "output_type": "stream",
     "text": [
      "Early stopping, best iteration is:\n",
      "[179]\tvalid_0's l2: 6.26279e+12\n",
      "[LightGBM] [Warning] feature_fraction is set=0.7723957554783504, colsample_bytree=1.0 will be ignored. Current value: feature_fraction=0.7723957554783504\n",
      "[LightGBM] [Warning] min_data_in_leaf is set=10, min_child_samples=20 will be ignored. Current value: min_data_in_leaf=10\n",
      "Training until validation scores don't improve for 100 rounds\n"
     ]
    },
    {
     "name": "stderr",
     "output_type": "stream",
     "text": [
      "[I 2025-03-21 08:42:46,014] Trial 11 finished with value: 2443220.651922153 and parameters: {'n_estimators': 839, 'learning_rate': 0.021965062803801578, 'num_leaves': 28, 'max_depth': 6, 'min_data_in_leaf': 10, 'feature_fraction': 0.7723957554783504}. Best is trial 11 with value: 2443220.651922153.\n"
     ]
    },
    {
     "name": "stdout",
     "output_type": "stream",
     "text": [
      "Did not meet early stopping. Best iteration is:\n",
      "[834]\tvalid_0's l2: 5.96933e+12\n",
      "[LightGBM] [Warning] feature_fraction is set=0.7882153661591796, colsample_bytree=1.0 will be ignored. Current value: feature_fraction=0.7882153661591796\n",
      "[LightGBM] [Warning] min_data_in_leaf is set=17, min_child_samples=20 will be ignored. Current value: min_data_in_leaf=17\n",
      "Training until validation scores don't improve for 100 rounds\n"
     ]
    },
    {
     "name": "stderr",
     "output_type": "stream",
     "text": [
      "[I 2025-03-21 08:42:48,639] Trial 12 finished with value: 2463695.5139172133 and parameters: {'n_estimators': 995, 'learning_rate': 0.027233829830175513, 'num_leaves': 26, 'max_depth': 6, 'min_data_in_leaf': 17, 'feature_fraction': 0.7882153661591796}. Best is trial 11 with value: 2443220.651922153.\n"
     ]
    },
    {
     "name": "stdout",
     "output_type": "stream",
     "text": [
      "Early stopping, best iteration is:\n",
      "[709]\tvalid_0's l2: 6.0698e+12\n",
      "[LightGBM] [Warning] feature_fraction is set=0.7947392598232286, colsample_bytree=1.0 will be ignored. Current value: feature_fraction=0.7947392598232286\n",
      "[LightGBM] [Warning] min_data_in_leaf is set=21, min_child_samples=20 will be ignored. Current value: min_data_in_leaf=21\n",
      "Training until validation scores don't improve for 100 rounds\n"
     ]
    },
    {
     "name": "stderr",
     "output_type": "stream",
     "text": [
      "[I 2025-03-21 08:42:51,655] Trial 13 finished with value: 2482693.7799242316 and parameters: {'n_estimators': 832, 'learning_rate': 0.00958923995523535, 'num_leaves': 24, 'max_depth': 6, 'min_data_in_leaf': 21, 'feature_fraction': 0.7947392598232286}. Best is trial 11 with value: 2443220.651922153.\n"
     ]
    },
    {
     "name": "stdout",
     "output_type": "stream",
     "text": [
      "Did not meet early stopping. Best iteration is:\n",
      "[832]\tvalid_0's l2: 6.16377e+12\n",
      "[LightGBM] [Warning] feature_fraction is set=0.7890658901970906, colsample_bytree=1.0 will be ignored. Current value: feature_fraction=0.7890658901970906\n",
      "[LightGBM] [Warning] min_data_in_leaf is set=17, min_child_samples=20 will be ignored. Current value: min_data_in_leaf=17\n",
      "Training until validation scores don't improve for 100 rounds\n"
     ]
    },
    {
     "name": "stderr",
     "output_type": "stream",
     "text": [
      "[I 2025-03-21 08:42:54,439] Trial 14 finished with value: 2497868.682757574 and parameters: {'n_estimators': 660, 'learning_rate': 0.009770492871151783, 'num_leaves': 27, 'max_depth': 7, 'min_data_in_leaf': 17, 'feature_fraction': 0.7890658901970906}. Best is trial 11 with value: 2443220.651922153.\n"
     ]
    },
    {
     "name": "stdout",
     "output_type": "stream",
     "text": [
      "Did not meet early stopping. Best iteration is:\n",
      "[660]\tvalid_0's l2: 6.23935e+12\n",
      "[LightGBM] [Warning] feature_fraction is set=0.705840266831226, colsample_bytree=1.0 will be ignored. Current value: feature_fraction=0.705840266831226\n",
      "[LightGBM] [Warning] min_data_in_leaf is set=25, min_child_samples=20 will be ignored. Current value: min_data_in_leaf=25\n",
      "Training until validation scores don't improve for 100 rounds\n"
     ]
    },
    {
     "name": "stderr",
     "output_type": "stream",
     "text": [
      "[I 2025-03-21 08:42:55,827] Trial 15 finished with value: 2448797.147007617 and parameters: {'n_estimators': 898, 'learning_rate': 0.061181316826992904, 'num_leaves': 20, 'max_depth': 6, 'min_data_in_leaf': 25, 'feature_fraction': 0.705840266831226}. Best is trial 11 with value: 2443220.651922153.\n"
     ]
    },
    {
     "name": "stdout",
     "output_type": "stream",
     "text": [
      "Early stopping, best iteration is:\n",
      "[361]\tvalid_0's l2: 5.99661e+12\n",
      "[LightGBM] [Warning] feature_fraction is set=0.7075451718960435, colsample_bytree=1.0 will be ignored. Current value: feature_fraction=0.7075451718960435\n",
      "[LightGBM] [Warning] min_data_in_leaf is set=48, min_child_samples=20 will be ignored. Current value: min_data_in_leaf=48\n",
      "Training until validation scores don't improve for 100 rounds\n"
     ]
    },
    {
     "name": "stderr",
     "output_type": "stream",
     "text": [
      "[I 2025-03-21 08:42:56,823] Trial 16 finished with value: 2484530.0934970924 and parameters: {'n_estimators': 870, 'learning_rate': 0.08405422645985501, 'num_leaves': 20, 'max_depth': 5, 'min_data_in_leaf': 48, 'feature_fraction': 0.7075451718960435}. Best is trial 11 with value: 2443220.651922153.\n"
     ]
    },
    {
     "name": "stdout",
     "output_type": "stream",
     "text": [
      "Early stopping, best iteration is:\n",
      "[236]\tvalid_0's l2: 6.17289e+12\n",
      "[LightGBM] [Warning] feature_fraction is set=0.7051441209435404, colsample_bytree=1.0 will be ignored. Current value: feature_fraction=0.7051441209435404\n",
      "[LightGBM] [Warning] min_data_in_leaf is set=25, min_child_samples=20 will be ignored. Current value: min_data_in_leaf=25\n",
      "Training until validation scores don't improve for 100 rounds\n"
     ]
    },
    {
     "name": "stderr",
     "output_type": "stream",
     "text": [
      "[I 2025-03-21 08:42:58,494] Trial 17 finished with value: 2446930.7857541866 and parameters: {'n_estimators': 658, 'learning_rate': 0.041246828745077464, 'num_leaves': 23, 'max_depth': 7, 'min_data_in_leaf': 25, 'feature_fraction': 0.7051441209435404}. Best is trial 11 with value: 2443220.651922153.\n"
     ]
    },
    {
     "name": "stdout",
     "output_type": "stream",
     "text": [
      "Early stopping, best iteration is:\n",
      "[389]\tvalid_0's l2: 5.98747e+12\n",
      "[LightGBM] [Warning] feature_fraction is set=0.7672763955228216, colsample_bytree=1.0 will be ignored. Current value: feature_fraction=0.7672763955228216\n",
      "[LightGBM] [Warning] min_data_in_leaf is set=37, min_child_samples=20 will be ignored. Current value: min_data_in_leaf=37\n",
      "Training until validation scores don't improve for 100 rounds\n"
     ]
    },
    {
     "name": "stderr",
     "output_type": "stream",
     "text": [
      "[I 2025-03-21 08:43:01,184] Trial 18 finished with value: 2447473.569860743 and parameters: {'n_estimators': 592, 'learning_rate': 0.01573382743869382, 'num_leaves': 30, 'max_depth': 8, 'min_data_in_leaf': 37, 'feature_fraction': 0.7672763955228216}. Best is trial 11 with value: 2443220.651922153.\n"
     ]
    },
    {
     "name": "stdout",
     "output_type": "stream",
     "text": [
      "Did not meet early stopping. Best iteration is:\n",
      "[563]\tvalid_0's l2: 5.99013e+12\n",
      "[LightGBM] [Warning] feature_fraction is set=0.8353954144916406, colsample_bytree=1.0 will be ignored. Current value: feature_fraction=0.8353954144916406\n",
      "[LightGBM] [Warning] min_data_in_leaf is set=24, min_child_samples=20 will be ignored. Current value: min_data_in_leaf=24\n",
      "Training until validation scores don't improve for 100 rounds\n"
     ]
    },
    {
     "name": "stderr",
     "output_type": "stream",
     "text": [
      "[I 2025-03-21 08:43:04,463] Trial 19 finished with value: 2517044.8676314075 and parameters: {'n_estimators': 741, 'learning_rate': 0.00678941841454122, 'num_leaves': 24, 'max_depth': 8, 'min_data_in_leaf': 24, 'feature_fraction': 0.8353954144916406}. Best is trial 11 with value: 2443220.651922153.\n"
     ]
    },
    {
     "name": "stdout",
     "output_type": "stream",
     "text": [
      "Did not meet early stopping. Best iteration is:\n",
      "[741]\tvalid_0's l2: 6.33551e+12\n",
      "[LightGBM] [Warning] feature_fraction is set=0.8960514466573595, colsample_bytree=1.0 will be ignored. Current value: feature_fraction=0.8960514466573595\n",
      "[LightGBM] [Warning] min_data_in_leaf is set=13, min_child_samples=20 will be ignored. Current value: min_data_in_leaf=13\n",
      "Training until validation scores don't improve for 100 rounds\n"
     ]
    },
    {
     "name": "stderr",
     "output_type": "stream",
     "text": [
      "[I 2025-03-21 08:43:06,258] Trial 20 finished with value: 2450595.773590446 and parameters: {'n_estimators': 551, 'learning_rate': 0.04624848302790871, 'num_leaves': 31, 'max_depth': 5, 'min_data_in_leaf': 13, 'feature_fraction': 0.8960514466573595}. Best is trial 11 with value: 2443220.651922153.\n"
     ]
    },
    {
     "name": "stdout",
     "output_type": "stream",
     "text": [
      "Did not meet early stopping. Best iteration is:\n",
      "[492]\tvalid_0's l2: 6.00542e+12\n",
      "[LightGBM] [Warning] feature_fraction is set=0.7675767166298891, colsample_bytree=1.0 will be ignored. Current value: feature_fraction=0.7675767166298891\n",
      "[LightGBM] [Warning] min_data_in_leaf is set=37, min_child_samples=20 will be ignored. Current value: min_data_in_leaf=37\n",
      "Training until validation scores don't improve for 100 rounds\n"
     ]
    },
    {
     "name": "stderr",
     "output_type": "stream",
     "text": [
      "[I 2025-03-21 08:43:08,731] Trial 21 finished with value: 2434062.6581818047 and parameters: {'n_estimators': 612, 'learning_rate': 0.01677758149419475, 'num_leaves': 29, 'max_depth': 8, 'min_data_in_leaf': 37, 'feature_fraction': 0.7675767166298891}. Best is trial 21 with value: 2434062.6581818047.\n"
     ]
    },
    {
     "name": "stdout",
     "output_type": "stream",
     "text": [
      "Did not meet early stopping. Best iteration is:\n",
      "[593]\tvalid_0's l2: 5.92466e+12\n",
      "[LightGBM] [Warning] feature_fraction is set=0.8310595558863466, colsample_bytree=1.0 will be ignored. Current value: feature_fraction=0.8310595558863466\n",
      "[LightGBM] [Warning] min_data_in_leaf is set=36, min_child_samples=20 will be ignored. Current value: min_data_in_leaf=36\n",
      "Training until validation scores don't improve for 100 rounds\n"
     ]
    },
    {
     "name": "stderr",
     "output_type": "stream",
     "text": [
      "[I 2025-03-21 08:43:11,233] Trial 22 finished with value: 2447646.7069940823 and parameters: {'n_estimators': 610, 'learning_rate': 0.015373237946957092, 'num_leaves': 24, 'max_depth': 8, 'min_data_in_leaf': 36, 'feature_fraction': 0.8310595558863466}. Best is trial 21 with value: 2434062.6581818047.\n"
     ]
    },
    {
     "name": "stdout",
     "output_type": "stream",
     "text": [
      "Did not meet early stopping. Best iteration is:\n",
      "[610]\tvalid_0's l2: 5.99097e+12\n",
      "[LightGBM] [Warning] feature_fraction is set=0.7568616389671734, colsample_bytree=1.0 will be ignored. Current value: feature_fraction=0.7568616389671734\n",
      "[LightGBM] [Warning] min_data_in_leaf is set=45, min_child_samples=20 will be ignored. Current value: min_data_in_leaf=45\n",
      "Training until validation scores don't improve for 100 rounds\n"
     ]
    },
    {
     "name": "stderr",
     "output_type": "stream",
     "text": [
      "[I 2025-03-21 08:43:13,870] Trial 23 finished with value: 2458327.4765817816 and parameters: {'n_estimators': 679, 'learning_rate': 0.016920007057064115, 'num_leaves': 28, 'max_depth': 7, 'min_data_in_leaf': 45, 'feature_fraction': 0.7568616389671734}. Best is trial 21 with value: 2434062.6581818047.\n"
     ]
    },
    {
     "name": "stdout",
     "output_type": "stream",
     "text": [
      "Did not meet early stopping. Best iteration is:\n",
      "[679]\tvalid_0's l2: 6.04337e+12\n",
      "[LightGBM] [Warning] feature_fraction is set=0.7236892331632256, colsample_bytree=1.0 will be ignored. Current value: feature_fraction=0.7236892331632256\n",
      "[LightGBM] [Warning] min_data_in_leaf is set=36, min_child_samples=20 will be ignored. Current value: min_data_in_leaf=36\n",
      "Training until validation scores don't improve for 100 rounds\n"
     ]
    },
    {
     "name": "stderr",
     "output_type": "stream",
     "text": [
      "[I 2025-03-21 08:43:15,287] Trial 24 finished with value: 2456766.5082596038 and parameters: {'n_estimators': 505, 'learning_rate': 0.038444363908156386, 'num_leaves': 23, 'max_depth': 7, 'min_data_in_leaf': 36, 'feature_fraction': 0.7236892331632256}. Best is trial 21 with value: 2434062.6581818047.\n"
     ]
    },
    {
     "name": "stdout",
     "output_type": "stream",
     "text": [
      "Early stopping, best iteration is:\n",
      "[300]\tvalid_0's l2: 6.0357e+12\n",
      "[LightGBM] [Warning] feature_fraction is set=0.7707311003223687, colsample_bytree=1.0 will be ignored. Current value: feature_fraction=0.7707311003223687\n",
      "[LightGBM] [Warning] min_data_in_leaf is set=28, min_child_samples=20 will be ignored. Current value: min_data_in_leaf=28\n",
      "Training until validation scores don't improve for 100 rounds\n"
     ]
    },
    {
     "name": "stderr",
     "output_type": "stream",
     "text": [
      "[I 2025-03-21 08:43:19,039] Trial 25 finished with value: 2503528.927489617 and parameters: {'n_estimators': 808, 'learning_rate': 0.0059812779836019535, 'num_leaves': 32, 'max_depth': 8, 'min_data_in_leaf': 28, 'feature_fraction': 0.7707311003223687}. Best is trial 21 with value: 2434062.6581818047.\n"
     ]
    },
    {
     "name": "stdout",
     "output_type": "stream",
     "text": [
      "Did not meet early stopping. Best iteration is:\n",
      "[808]\tvalid_0's l2: 6.26766e+12\n",
      "[LightGBM] [Warning] feature_fraction is set=0.7001811570209892, colsample_bytree=1.0 will be ignored. Current value: feature_fraction=0.7001811570209892\n",
      "[LightGBM] [Warning] min_data_in_leaf is set=50, min_child_samples=20 will be ignored. Current value: min_data_in_leaf=50\n",
      "Training until validation scores don't improve for 100 rounds\n"
     ]
    },
    {
     "name": "stderr",
     "output_type": "stream",
     "text": [
      "[I 2025-03-21 08:43:21,445] Trial 26 finished with value: 2438099.078404414 and parameters: {'n_estimators': 676, 'learning_rate': 0.020601486268366425, 'num_leaves': 27, 'max_depth': 10, 'min_data_in_leaf': 50, 'feature_fraction': 0.7001811570209892}. Best is trial 21 with value: 2434062.6581818047.\n"
     ]
    },
    {
     "name": "stdout",
     "output_type": "stream",
     "text": [
      "Early stopping, best iteration is:\n",
      "[530]\tvalid_0's l2: 5.94433e+12\n",
      "[LightGBM] [Warning] feature_fraction is set=0.820723230371219, colsample_bytree=1.0 will be ignored. Current value: feature_fraction=0.820723230371219\n",
      "[LightGBM] [Warning] min_data_in_leaf is set=50, min_child_samples=20 will be ignored. Current value: min_data_in_leaf=50\n",
      "Training until validation scores don't improve for 100 rounds\n"
     ]
    },
    {
     "name": "stderr",
     "output_type": "stream",
     "text": [
      "[I 2025-03-21 08:43:25,316] Trial 27 finished with value: 2455501.157344342 and parameters: {'n_estimators': 784, 'learning_rate': 0.011683443634082122, 'num_leaves': 38, 'max_depth': 10, 'min_data_in_leaf': 50, 'feature_fraction': 0.820723230371219}. Best is trial 21 with value: 2434062.6581818047.\n"
     ]
    },
    {
     "name": "stdout",
     "output_type": "stream",
     "text": [
      "Did not meet early stopping. Best iteration is:\n",
      "[784]\tvalid_0's l2: 6.02949e+12\n",
      "[LightGBM] [Warning] feature_fraction is set=0.7347183208050162, colsample_bytree=1.0 will be ignored. Current value: feature_fraction=0.7347183208050162\n",
      "[LightGBM] [Warning] min_data_in_leaf is set=44, min_child_samples=20 will be ignored. Current value: min_data_in_leaf=44\n",
      "Training until validation scores don't improve for 100 rounds\n"
     ]
    },
    {
     "name": "stderr",
     "output_type": "stream",
     "text": [
      "[I 2025-03-21 08:43:27,421] Trial 28 finished with value: 2455677.1804470187 and parameters: {'n_estimators': 687, 'learning_rate': 0.024264775760576236, 'num_leaves': 26, 'max_depth': 10, 'min_data_in_leaf': 44, 'feature_fraction': 0.7347183208050162}. Best is trial 21 with value: 2434062.6581818047.\n"
     ]
    },
    {
     "name": "stdout",
     "output_type": "stream",
     "text": [
      "Early stopping, best iteration is:\n",
      "[432]\tvalid_0's l2: 6.03035e+12\n",
      "[LightGBM] [Warning] feature_fraction is set=0.9072034148854957, colsample_bytree=1.0 will be ignored. Current value: feature_fraction=0.9072034148854957\n",
      "[LightGBM] [Warning] min_data_in_leaf is set=40, min_child_samples=20 will be ignored. Current value: min_data_in_leaf=40\n",
      "Training until validation scores don't improve for 100 rounds\n"
     ]
    },
    {
     "name": "stderr",
     "output_type": "stream",
     "text": [
      "[I 2025-03-21 08:43:30,217] Trial 29 finished with value: 2586133.9127639257 and parameters: {'n_estimators': 460, 'learning_rate': 0.006762048000476884, 'num_leaves': 33, 'max_depth': 9, 'min_data_in_leaf': 40, 'feature_fraction': 0.9072034148854957}. Best is trial 21 with value: 2434062.6581818047.\n"
     ]
    },
    {
     "name": "stdout",
     "output_type": "stream",
     "text": [
      "Did not meet early stopping. Best iteration is:\n",
      "[460]\tvalid_0's l2: 6.68809e+12\n",
      "[LightGBM] [Warning] feature_fraction is set=0.8485344676504701, colsample_bytree=1.0 will be ignored. Current value: feature_fraction=0.8485344676504701\n",
      "[LightGBM] [Warning] min_data_in_leaf is set=40, min_child_samples=20 will be ignored. Current value: min_data_in_leaf=40\n",
      "Training until validation scores don't improve for 100 rounds\n"
     ]
    },
    {
     "name": "stderr",
     "output_type": "stream",
     "text": [
      "[I 2025-03-21 08:43:31,233] Trial 30 finished with value: 2597268.340663238 and parameters: {'n_estimators': 146, 'learning_rate': 0.02086333993212566, 'num_leaves': 29, 'max_depth': 10, 'min_data_in_leaf': 40, 'feature_fraction': 0.8485344676504701}. Best is trial 21 with value: 2434062.6581818047.\n"
     ]
    },
    {
     "name": "stdout",
     "output_type": "stream",
     "text": [
      "Did not meet early stopping. Best iteration is:\n",
      "[146]\tvalid_0's l2: 6.7458e+12\n",
      "[LightGBM] [Warning] feature_fraction is set=0.9969626133791344, colsample_bytree=1.0 will be ignored. Current value: feature_fraction=0.9969626133791344\n",
      "[LightGBM] [Warning] min_data_in_leaf is set=34, min_child_samples=20 will be ignored. Current value: min_data_in_leaf=34\n",
      "Training until validation scores don't improve for 100 rounds\n"
     ]
    },
    {
     "name": "stderr",
     "output_type": "stream",
     "text": [
      "[I 2025-03-21 08:43:32,692] Trial 31 finished with value: 2439497.548283637 and parameters: {'n_estimators': 634, 'learning_rate': 0.05824544845224508, 'num_leaves': 22, 'max_depth': 6, 'min_data_in_leaf': 34, 'feature_fraction': 0.9969626133791344}. Best is trial 21 with value: 2434062.6581818047.\n"
     ]
    },
    {
     "name": "stdout",
     "output_type": "stream",
     "text": [
      "Early stopping, best iteration is:\n",
      "[270]\tvalid_0's l2: 5.95115e+12\n",
      "[LightGBM] [Warning] feature_fraction is set=0.9846650674504538, colsample_bytree=1.0 will be ignored. Current value: feature_fraction=0.9846650674504538\n",
      "[LightGBM] [Warning] min_data_in_leaf is set=46, min_child_samples=20 will be ignored. Current value: min_data_in_leaf=46\n",
      "Training until validation scores don't improve for 100 rounds\n"
     ]
    },
    {
     "name": "stderr",
     "output_type": "stream",
     "text": [
      "[I 2025-03-21 08:43:34,170] Trial 32 finished with value: 2480687.9692796227 and parameters: {'n_estimators': 607, 'learning_rate': 0.06391773614743515, 'num_leaves': 26, 'max_depth': 6, 'min_data_in_leaf': 46, 'feature_fraction': 0.9846650674504538}. Best is trial 21 with value: 2434062.6581818047.\n"
     ]
    },
    {
     "name": "stdout",
     "output_type": "stream",
     "text": [
      "Early stopping, best iteration is:\n",
      "[289]\tvalid_0's l2: 6.15381e+12\n",
      "[LightGBM] [Warning] feature_fraction is set=0.9525577977655407, colsample_bytree=1.0 will be ignored. Current value: feature_fraction=0.9525577977655407\n",
      "[LightGBM] [Warning] min_data_in_leaf is set=34, min_child_samples=20 will be ignored. Current value: min_data_in_leaf=34\n",
      "Training until validation scores don't improve for 100 rounds\n"
     ]
    },
    {
     "name": "stderr",
     "output_type": "stream",
     "text": [
      "[I 2025-03-21 08:43:35,896] Trial 33 finished with value: 2473661.0135376207 and parameters: {'n_estimators': 535, 'learning_rate': 0.03156960184446639, 'num_leaves': 22, 'max_depth': 5, 'min_data_in_leaf': 34, 'feature_fraction': 0.9525577977655407}. Best is trial 21 with value: 2434062.6581818047.\n"
     ]
    },
    {
     "name": "stdout",
     "output_type": "stream",
     "text": [
      "Did not meet early stopping. Best iteration is:\n",
      "[511]\tvalid_0's l2: 6.119e+12\n",
      "[LightGBM] [Warning] feature_fraction is set=0.9233404946496703, colsample_bytree=1.0 will be ignored. Current value: feature_fraction=0.9233404946496703\n",
      "[LightGBM] [Warning] min_data_in_leaf is set=38, min_child_samples=20 will be ignored. Current value: min_data_in_leaf=38\n",
      "Training until validation scores don't improve for 100 rounds\n"
     ]
    },
    {
     "name": "stderr",
     "output_type": "stream",
     "text": [
      "[I 2025-03-21 08:43:37,982] Trial 34 finished with value: 2508075.0556561365 and parameters: {'n_estimators': 718, 'learning_rate': 0.012733580853974687, 'num_leaves': 28, 'max_depth': 4, 'min_data_in_leaf': 38, 'feature_fraction': 0.9233404946496703}. Best is trial 21 with value: 2434062.6581818047.\n"
     ]
    },
    {
     "name": "stdout",
     "output_type": "stream",
     "text": [
      "Did not meet early stopping. Best iteration is:\n",
      "[717]\tvalid_0's l2: 6.29044e+12\n",
      "[LightGBM] [Warning] feature_fraction is set=0.7763796395479637, colsample_bytree=1.0 will be ignored. Current value: feature_fraction=0.7763796395479637\n",
      "[LightGBM] [Warning] min_data_in_leaf is set=42, min_child_samples=20 will be ignored. Current value: min_data_in_leaf=42\n",
      "Training until validation scores don't improve for 100 rounds\n"
     ]
    },
    {
     "name": "stderr",
     "output_type": "stream",
     "text": [
      "[I 2025-03-21 08:43:39,392] Trial 35 finished with value: 2435212.2200099644 and parameters: {'n_estimators': 612, 'learning_rate': 0.056662651641444815, 'num_leaves': 31, 'max_depth': 9, 'min_data_in_leaf': 42, 'feature_fraction': 0.7763796395479637}. Best is trial 21 with value: 2434062.6581818047.\n"
     ]
    },
    {
     "name": "stdout",
     "output_type": "stream",
     "text": [
      "Early stopping, best iteration is:\n",
      "[210]\tvalid_0's l2: 5.93026e+12\n",
      "[LightGBM] [Warning] feature_fraction is set=0.9987897365222188, colsample_bytree=1.0 will be ignored. Current value: feature_fraction=0.9987897365222188\n",
      "[LightGBM] [Warning] min_data_in_leaf is set=41, min_child_samples=20 will be ignored. Current value: min_data_in_leaf=41\n",
      "Training until validation scores don't improve for 100 rounds\n"
     ]
    },
    {
     "name": "stderr",
     "output_type": "stream",
     "text": [
      "[I 2025-03-21 08:43:40,794] Trial 36 finished with value: 2475797.875101636 and parameters: {'n_estimators': 583, 'learning_rate': 0.06324384071767544, 'num_leaves': 37, 'max_depth': 9, 'min_data_in_leaf': 41, 'feature_fraction': 0.9987897365222188}. Best is trial 21 with value: 2434062.6581818047.\n"
     ]
    },
    {
     "name": "stdout",
     "output_type": "stream",
     "text": [
      "Early stopping, best iteration is:\n",
      "[152]\tvalid_0's l2: 6.12958e+12\n",
      "[LightGBM] [Warning] feature_fraction is set=0.8707871795246291, colsample_bytree=1.0 will be ignored. Current value: feature_fraction=0.8707871795246291\n",
      "[LightGBM] [Warning] min_data_in_leaf is set=42, min_child_samples=20 will be ignored. Current value: min_data_in_leaf=42\n",
      "Training until validation scores don't improve for 100 rounds\n"
     ]
    },
    {
     "name": "stderr",
     "output_type": "stream",
     "text": [
      "[I 2025-03-21 08:43:42,263] Trial 37 finished with value: 2455285.3391592507 and parameters: {'n_estimators': 335, 'learning_rate': 0.05012547613527481, 'num_leaves': 31, 'max_depth': 8, 'min_data_in_leaf': 42, 'feature_fraction': 0.8707871795246291}. Best is trial 21 with value: 2434062.6581818047.\n"
     ]
    },
    {
     "name": "stdout",
     "output_type": "stream",
     "text": [
      "Early stopping, best iteration is:\n",
      "[231]\tvalid_0's l2: 6.02843e+12\n",
      "[LightGBM] [Warning] feature_fraction is set=0.7202712940115373, colsample_bytree=1.0 will be ignored. Current value: feature_fraction=0.7202712940115373\n",
      "[LightGBM] [Warning] min_data_in_leaf is set=33, min_child_samples=20 will be ignored. Current value: min_data_in_leaf=33\n",
      "Training until validation scores don't improve for 100 rounds\n"
     ]
    },
    {
     "name": "stderr",
     "output_type": "stream",
     "text": [
      "[I 2025-03-21 08:43:44,298] Trial 38 finished with value: 2440727.209737824 and parameters: {'n_estimators': 491, 'learning_rate': 0.031463657199920676, 'num_leaves': 33, 'max_depth': 9, 'min_data_in_leaf': 33, 'feature_fraction': 0.7202712940115373}. Best is trial 21 with value: 2434062.6581818047.\n"
     ]
    },
    {
     "name": "stdout",
     "output_type": "stream",
     "text": [
      "Did not meet early stopping. Best iteration is:\n",
      "[489]\tvalid_0's l2: 5.95715e+12\n",
      "[LightGBM] [Warning] feature_fraction is set=0.746069629471128, colsample_bytree=1.0 will be ignored. Current value: feature_fraction=0.746069629471128\n",
      "[LightGBM] [Warning] min_data_in_leaf is set=48, min_child_samples=20 will be ignored. Current value: min_data_in_leaf=48\n",
      "Training until validation scores don't improve for 100 rounds\n"
     ]
    },
    {
     "name": "stderr",
     "output_type": "stream",
     "text": [
      "[I 2025-03-21 08:43:45,790] Trial 39 finished with value: 2445340.0568939555 and parameters: {'n_estimators': 641, 'learning_rate': 0.07759997886739455, 'num_leaves': 22, 'max_depth': 10, 'min_data_in_leaf': 48, 'feature_fraction': 0.746069629471128}. Best is trial 21 with value: 2434062.6581818047.\n"
     ]
    },
    {
     "name": "stdout",
     "output_type": "stream",
     "text": [
      "Early stopping, best iteration is:\n",
      "[334]\tvalid_0's l2: 5.97969e+12\n",
      "[LightGBM] [Warning] feature_fraction is set=0.8178764126646538, colsample_bytree=1.0 will be ignored. Current value: feature_fraction=0.8178764126646538\n",
      "[LightGBM] [Warning] min_data_in_leaf is set=29, min_child_samples=20 will be ignored. Current value: min_data_in_leaf=29\n",
      "Training until validation scores don't improve for 100 rounds\n"
     ]
    },
    {
     "name": "stderr",
     "output_type": "stream",
     "text": [
      "[I 2025-03-21 08:43:48,163] Trial 40 finished with value: 2459659.1011122735 and parameters: {'n_estimators': 396, 'learning_rate': 0.01858047611694972, 'num_leaves': 44, 'max_depth': 9, 'min_data_in_leaf': 29, 'feature_fraction': 0.8178764126646538}. Best is trial 21 with value: 2434062.6581818047.\n"
     ]
    },
    {
     "name": "stdout",
     "output_type": "stream",
     "text": [
      "Did not meet early stopping. Best iteration is:\n",
      "[396]\tvalid_0's l2: 6.04992e+12\n",
      "[LightGBM] [Warning] feature_fraction is set=0.7231617272216175, colsample_bytree=1.0 will be ignored. Current value: feature_fraction=0.7231617272216175\n",
      "[LightGBM] [Warning] min_data_in_leaf is set=34, min_child_samples=20 will be ignored. Current value: min_data_in_leaf=34\n",
      "Training until validation scores don't improve for 100 rounds\n"
     ]
    },
    {
     "name": "stderr",
     "output_type": "stream",
     "text": [
      "[I 2025-03-21 08:43:50,178] Trial 41 finished with value: 2456863.9087068895 and parameters: {'n_estimators': 488, 'learning_rate': 0.03132669939471143, 'num_leaves': 33, 'max_depth': 9, 'min_data_in_leaf': 34, 'feature_fraction': 0.7231617272216175}. Best is trial 21 with value: 2434062.6581818047.\n"
     ]
    },
    {
     "name": "stdout",
     "output_type": "stream",
     "text": [
      "Early stopping, best iteration is:\n",
      "[374]\tvalid_0's l2: 6.03618e+12\n",
      "[LightGBM] [Warning] feature_fraction is set=0.7211765975606375, colsample_bytree=1.0 will be ignored. Current value: feature_fraction=0.7211765975606375\n",
      "[LightGBM] [Warning] min_data_in_leaf is set=33, min_child_samples=20 will be ignored. Current value: min_data_in_leaf=33\n",
      "Training until validation scores don't improve for 100 rounds\n"
     ]
    },
    {
     "name": "stderr",
     "output_type": "stream",
     "text": [
      "[I 2025-03-21 08:43:52,468] Trial 42 finished with value: 2446916.8444677074 and parameters: {'n_estimators': 557, 'learning_rate': 0.037372936259983155, 'num_leaves': 30, 'max_depth': 10, 'min_data_in_leaf': 33, 'feature_fraction': 0.7211765975606375}. Best is trial 21 with value: 2434062.6581818047.\n"
     ]
    },
    {
     "name": "stdout",
     "output_type": "stream",
     "text": [
      "Did not meet early stopping. Best iteration is:\n",
      "[508]\tvalid_0's l2: 5.9874e+12\n",
      "[LightGBM] [Warning] feature_fraction is set=0.7384456224089186, colsample_bytree=1.0 will be ignored. Current value: feature_fraction=0.7384456224089186\n",
      "[LightGBM] [Warning] min_data_in_leaf is set=38, min_child_samples=20 will be ignored. Current value: min_data_in_leaf=38\n",
      "Training until validation scores don't improve for 100 rounds\n"
     ]
    },
    {
     "name": "stderr",
     "output_type": "stream",
     "text": [
      "[I 2025-03-21 08:43:54,189] Trial 43 finished with value: 2460285.8382031308 and parameters: {'n_estimators': 505, 'learning_rate': 0.053352641423319, 'num_leaves': 34, 'max_depth': 9, 'min_data_in_leaf': 38, 'feature_fraction': 0.7384456224089186}. Best is trial 21 with value: 2434062.6581818047.\n"
     ]
    },
    {
     "name": "stdout",
     "output_type": "stream",
     "text": [
      "Early stopping, best iteration is:\n",
      "[194]\tvalid_0's l2: 6.05301e+12\n",
      "[LightGBM] [Warning] feature_fraction is set=0.7023397009654644, colsample_bytree=1.0 will be ignored. Current value: feature_fraction=0.7023397009654644\n",
      "[LightGBM] [Warning] min_data_in_leaf is set=31, min_child_samples=20 will be ignored. Current value: min_data_in_leaf=31\n",
      "Training until validation scores don't improve for 100 rounds\n"
     ]
    },
    {
     "name": "stderr",
     "output_type": "stream",
     "text": [
      "[I 2025-03-21 08:43:56,324] Trial 44 finished with value: 2459244.27566282 and parameters: {'n_estimators': 706, 'learning_rate': 0.03274049105196094, 'num_leaves': 39, 'max_depth': 8, 'min_data_in_leaf': 31, 'feature_fraction': 0.7023397009654644}. Best is trial 21 with value: 2434062.6581818047.\n"
     ]
    },
    {
     "name": "stdout",
     "output_type": "stream",
     "text": [
      "Early stopping, best iteration is:\n",
      "[371]\tvalid_0's l2: 6.04788e+12\n",
      "[LightGBM] [Warning] feature_fraction is set=0.7537649771107079, colsample_bytree=1.0 will be ignored. Current value: feature_fraction=0.7537649771107079\n",
      "[LightGBM] [Warning] min_data_in_leaf is set=43, min_child_samples=20 will be ignored. Current value: min_data_in_leaf=43\n",
      "Training until validation scores don't improve for 100 rounds\n"
     ]
    },
    {
     "name": "stderr",
     "output_type": "stream",
     "text": [
      "[I 2025-03-21 08:43:58,924] Trial 45 finished with value: 2437020.8710001716 and parameters: {'n_estimators': 627, 'learning_rate': 0.025156832026364356, 'num_leaves': 36, 'max_depth': 9, 'min_data_in_leaf': 43, 'feature_fraction': 0.7537649771107079}. Best is trial 21 with value: 2434062.6581818047.\n"
     ]
    },
    {
     "name": "stdout",
     "output_type": "stream",
     "text": [
      "Did not meet early stopping. Best iteration is:\n",
      "[529]\tvalid_0's l2: 5.93907e+12\n",
      "[LightGBM] [Warning] feature_fraction is set=0.7613426331036884, colsample_bytree=1.0 will be ignored. Current value: feature_fraction=0.7613426331036884\n",
      "[LightGBM] [Warning] min_data_in_leaf is set=47, min_child_samples=20 will be ignored. Current value: min_data_in_leaf=47\n",
      "Training until validation scores don't improve for 100 rounds\n"
     ]
    },
    {
     "name": "stderr",
     "output_type": "stream",
     "text": [
      "[I 2025-03-21 08:44:00,064] Trial 46 finished with value: 2462094.330765978 and parameters: {'n_estimators': 756, 'learning_rate': 0.09867321840500964, 'num_leaves': 36, 'max_depth': 10, 'min_data_in_leaf': 47, 'feature_fraction': 0.7613426331036884}. Best is trial 21 with value: 2434062.6581818047.\n"
     ]
    },
    {
     "name": "stdout",
     "output_type": "stream",
     "text": [
      "Early stopping, best iteration is:\n",
      "[126]\tvalid_0's l2: 6.06191e+12\n",
      "[LightGBM] [Warning] feature_fraction is set=0.7767634068003, colsample_bytree=1.0 will be ignored. Current value: feature_fraction=0.7767634068003\n",
      "[LightGBM] [Warning] min_data_in_leaf is set=44, min_child_samples=20 will be ignored. Current value: min_data_in_leaf=44\n",
      "Training until validation scores don't improve for 100 rounds\n"
     ]
    },
    {
     "name": "stderr",
     "output_type": "stream",
     "text": [
      "[I 2025-03-21 08:44:02,659] Trial 47 finished with value: 2459877.189096665 and parameters: {'n_estimators': 629, 'learning_rate': 0.02534850051314385, 'num_leaves': 41, 'max_depth': 9, 'min_data_in_leaf': 44, 'feature_fraction': 0.7767634068003}. Best is trial 21 with value: 2434062.6581818047.\n"
     ]
    },
    {
     "name": "stdout",
     "output_type": "stream",
     "text": [
      "Early stopping, best iteration is:\n",
      "[432]\tvalid_0's l2: 6.051e+12\n",
      "[LightGBM] [Warning] feature_fraction is set=0.7794259774884968, colsample_bytree=1.0 will be ignored. Current value: feature_fraction=0.7794259774884968\n",
      "[LightGBM] [Warning] min_data_in_leaf is set=50, min_child_samples=20 will be ignored. Current value: min_data_in_leaf=50\n",
      "Training until validation scores don't improve for 100 rounds\n"
     ]
    },
    {
     "name": "stderr",
     "output_type": "stream",
     "text": [
      "[I 2025-03-21 08:44:05,868] Trial 48 finished with value: 2503779.5664691515 and parameters: {'n_estimators': 571, 'learning_rate': 0.008497204026458741, 'num_leaves': 48, 'max_depth': 8, 'min_data_in_leaf': 50, 'feature_fraction': 0.7794259774884968}. Best is trial 21 with value: 2434062.6581818047.\n"
     ]
    },
    {
     "name": "stdout",
     "output_type": "stream",
     "text": [
      "Did not meet early stopping. Best iteration is:\n",
      "[571]\tvalid_0's l2: 6.26891e+12\n",
      "[LightGBM] [Warning] feature_fraction is set=0.8022425778108035, colsample_bytree=1.0 will be ignored. Current value: feature_fraction=0.8022425778108035\n",
      "[LightGBM] [Warning] min_data_in_leaf is set=42, min_child_samples=20 will be ignored. Current value: min_data_in_leaf=42\n",
      "Training until validation scores don't improve for 100 rounds\n"
     ]
    },
    {
     "name": "stderr",
     "output_type": "stream",
     "text": [
      "[I 2025-03-21 08:44:09,100] Trial 49 finished with value: 2446808.6488312543 and parameters: {'n_estimators': 772, 'learning_rate': 0.020033807387545878, 'num_leaves': 36, 'max_depth': 9, 'min_data_in_leaf': 42, 'feature_fraction': 0.8022425778108035}. Best is trial 21 with value: 2434062.6581818047.\n"
     ]
    },
    {
     "name": "stdout",
     "output_type": "stream",
     "text": [
      "Did not meet early stopping. Best iteration is:\n",
      "[772]\tvalid_0's l2: 5.98687e+12\n",
      "[LightGBM] [Warning] feature_fraction is set=0.7426677685013651, colsample_bytree=1.0 will be ignored. Current value: feature_fraction=0.7426677685013651\n",
      "[LightGBM] [Warning] min_data_in_leaf is set=38, min_child_samples=20 will be ignored. Current value: min_data_in_leaf=38\n",
      "Training until validation scores don't improve for 100 rounds\n"
     ]
    },
    {
     "name": "stderr",
     "output_type": "stream",
     "text": [
      "[I 2025-03-21 08:44:11,711] Trial 50 finished with value: 2452205.96356061 and parameters: {'n_estimators': 712, 'learning_rate': 0.012138644152475847, 'num_leaves': 25, 'max_depth': 7, 'min_data_in_leaf': 38, 'feature_fraction': 0.7426677685013651}. Best is trial 21 with value: 2434062.6581818047.\n"
     ]
    },
    {
     "name": "stdout",
     "output_type": "stream",
     "text": [
      "Did not meet early stopping. Best iteration is:\n",
      "[711]\tvalid_0's l2: 6.01331e+12\n",
      "[LightGBM] [Warning] feature_fraction is set=0.7146219743419262, colsample_bytree=1.0 will be ignored. Current value: feature_fraction=0.7146219743419262\n",
      "[LightGBM] [Warning] min_data_in_leaf is set=35, min_child_samples=20 will be ignored. Current value: min_data_in_leaf=35\n",
      "Training until validation scores don't improve for 100 rounds\n"
     ]
    },
    {
     "name": "stderr",
     "output_type": "stream",
     "text": [
      "[I 2025-03-21 08:44:13,159] Trial 51 finished with value: 2448290.583120496 and parameters: {'n_estimators': 438, 'learning_rate': 0.07148628569686057, 'num_leaves': 34, 'max_depth': 10, 'min_data_in_leaf': 35, 'feature_fraction': 0.7146219743419262}. Best is trial 21 with value: 2434062.6581818047.\n"
     ]
    },
    {
     "name": "stdout",
     "output_type": "stream",
     "text": [
      "Early stopping, best iteration is:\n",
      "[183]\tvalid_0's l2: 5.99413e+12\n",
      "[LightGBM] [Warning] feature_fraction is set=0.7324981181893347, colsample_bytree=1.0 will be ignored. Current value: feature_fraction=0.7324981181893347\n",
      "[LightGBM] [Warning] min_data_in_leaf is set=32, min_child_samples=20 will be ignored. Current value: min_data_in_leaf=32\n",
      "Training until validation scores don't improve for 100 rounds\n"
     ]
    },
    {
     "name": "stderr",
     "output_type": "stream",
     "text": [
      "[I 2025-03-21 08:44:14,795] Trial 52 finished with value: 2439576.4914322738 and parameters: {'n_estimators': 638, 'learning_rate': 0.045080277133577214, 'num_leaves': 31, 'max_depth': 9, 'min_data_in_leaf': 32, 'feature_fraction': 0.7324981181893347}. Best is trial 21 with value: 2434062.6581818047.\n"
     ]
    },
    {
     "name": "stdout",
     "output_type": "stream",
     "text": [
      "Early stopping, best iteration is:\n",
      "[243]\tvalid_0's l2: 5.95153e+12\n",
      "[LightGBM] [Warning] feature_fraction is set=0.7519297437150382, colsample_bytree=1.0 will be ignored. Current value: feature_fraction=0.7519297437150382\n",
      "[LightGBM] [Warning] min_data_in_leaf is set=40, min_child_samples=20 will be ignored. Current value: min_data_in_leaf=40\n",
      "Training until validation scores don't improve for 100 rounds\n"
     ]
    },
    {
     "name": "stderr",
     "output_type": "stream",
     "text": [
      "[I 2025-03-21 08:44:16,374] Trial 53 finished with value: 2441361.060469636 and parameters: {'n_estimators': 617, 'learning_rate': 0.046701136426041304, 'num_leaves': 30, 'max_depth': 9, 'min_data_in_leaf': 40, 'feature_fraction': 0.7519297437150382}. Best is trial 21 with value: 2434062.6581818047.\n"
     ]
    },
    {
     "name": "stdout",
     "output_type": "stream",
     "text": [
      "Early stopping, best iteration is:\n",
      "[187]\tvalid_0's l2: 5.96024e+12\n",
      "[LightGBM] [Warning] feature_fraction is set=0.7292964989440573, colsample_bytree=1.0 will be ignored. Current value: feature_fraction=0.7292964989440573\n",
      "[LightGBM] [Warning] min_data_in_leaf is set=31, min_child_samples=20 will be ignored. Current value: min_data_in_leaf=31\n",
      "Training until validation scores don't improve for 100 rounds\n"
     ]
    },
    {
     "name": "stderr",
     "output_type": "stream",
     "text": [
      "[I 2025-03-21 08:44:18,180] Trial 54 finished with value: 2433731.5486045 and parameters: {'n_estimators': 656, 'learning_rate': 0.055551447866854814, 'num_leaves': 27, 'max_depth': 9, 'min_data_in_leaf': 31, 'feature_fraction': 0.7292964989440573}. Best is trial 54 with value: 2433731.5486045.\n"
     ]
    },
    {
     "name": "stdout",
     "output_type": "stream",
     "text": [
      "Early stopping, best iteration is:\n",
      "[381]\tvalid_0's l2: 5.92305e+12\n",
      "[LightGBM] [Warning] feature_fraction is set=0.7926518115156678, colsample_bytree=1.0 will be ignored. Current value: feature_fraction=0.7926518115156678\n",
      "[LightGBM] [Warning] min_data_in_leaf is set=27, min_child_samples=20 will be ignored. Current value: min_data_in_leaf=27\n",
      "Training until validation scores don't improve for 100 rounds\n"
     ]
    },
    {
     "name": "stderr",
     "output_type": "stream",
     "text": [
      "[I 2025-03-21 08:44:19,971] Trial 55 finished with value: 2447654.9929095684 and parameters: {'n_estimators': 667, 'learning_rate': 0.05541270373157263, 'num_leaves': 27, 'max_depth': 10, 'min_data_in_leaf': 27, 'feature_fraction': 0.7926518115156678}. Best is trial 54 with value: 2433731.5486045.\n"
     ]
    },
    {
     "name": "stdout",
     "output_type": "stream",
     "text": [
      "Early stopping, best iteration is:\n",
      "[340]\tvalid_0's l2: 5.99101e+12\n",
      "[LightGBM] [Warning] feature_fraction is set=0.7598260428052247, colsample_bytree=1.0 will be ignored. Current value: feature_fraction=0.7598260428052247\n",
      "[LightGBM] [Warning] min_data_in_leaf is set=30, min_child_samples=20 will be ignored. Current value: min_data_in_leaf=30\n",
      "Training until validation scores don't improve for 100 rounds\n"
     ]
    },
    {
     "name": "stderr",
     "output_type": "stream",
     "text": [
      "[I 2025-03-21 08:44:22,797] Trial 56 finished with value: 3154037.0380885643 and parameters: {'n_estimators': 540, 'learning_rate': 0.0018668623392786973, 'num_leaves': 29, 'max_depth': 8, 'min_data_in_leaf': 30, 'feature_fraction': 0.7598260428052247}. Best is trial 54 with value: 2433731.5486045.\n"
     ]
    },
    {
     "name": "stdout",
     "output_type": "stream",
     "text": [
      "Did not meet early stopping. Best iteration is:\n",
      "[540]\tvalid_0's l2: 9.94795e+12\n",
      "[LightGBM] [Warning] feature_fraction is set=0.7124072829893349, colsample_bytree=1.0 will be ignored. Current value: feature_fraction=0.7124072829893349\n",
      "[LightGBM] [Warning] min_data_in_leaf is set=43, min_child_samples=20 will be ignored. Current value: min_data_in_leaf=43\n",
      "Training until validation scores don't improve for 100 rounds\n"
     ]
    },
    {
     "name": "stderr",
     "output_type": "stream",
     "text": [
      "[I 2025-03-21 08:44:23,781] Trial 57 finished with value: 2463936.309324877 and parameters: {'n_estimators': 735, 'learning_rate': 0.08228094830975892, 'num_leaves': 21, 'max_depth': 6, 'min_data_in_leaf': 43, 'feature_fraction': 0.7124072829893349}. Best is trial 54 with value: 2433731.5486045.\n"
     ]
    },
    {
     "name": "stdout",
     "output_type": "stream",
     "text": [
      "Early stopping, best iteration is:\n",
      "[171]\tvalid_0's l2: 6.07098e+12\n",
      "[LightGBM] [Warning] feature_fraction is set=0.9482282749884166, colsample_bytree=1.0 will be ignored. Current value: feature_fraction=0.9482282749884166\n",
      "[LightGBM] [Warning] min_data_in_leaf is set=48, min_child_samples=20 will be ignored. Current value: min_data_in_leaf=48\n",
      "Training until validation scores don't improve for 100 rounds\n"
     ]
    },
    {
     "name": "stderr",
     "output_type": "stream",
     "text": [
      "[I 2025-03-21 08:44:27,385] Trial 58 finished with value: 3416878.437797078 and parameters: {'n_estimators': 678, 'learning_rate': 0.00100668186835275, 'num_leaves': 27, 'max_depth': 7, 'min_data_in_leaf': 48, 'feature_fraction': 0.9482282749884166}. Best is trial 54 with value: 2433731.5486045.\n"
     ]
    },
    {
     "name": "stdout",
     "output_type": "stream",
     "text": [
      "Did not meet early stopping. Best iteration is:\n",
      "[678]\tvalid_0's l2: 1.16751e+13\n",
      "[LightGBM] [Warning] feature_fraction is set=0.7823673906749926, colsample_bytree=1.0 will be ignored. Current value: feature_fraction=0.7823673906749926\n",
      "[LightGBM] [Warning] min_data_in_leaf is set=36, min_child_samples=20 will be ignored. Current value: min_data_in_leaf=36\n",
      "Training until validation scores don't improve for 100 rounds\n"
     ]
    },
    {
     "name": "stderr",
     "output_type": "stream",
     "text": [
      "[I 2025-03-21 08:44:29,702] Trial 59 finished with value: 2441049.5560078574 and parameters: {'n_estimators': 572, 'learning_rate': 0.014203668345795353, 'num_leaves': 25, 'max_depth': 8, 'min_data_in_leaf': 36, 'feature_fraction': 0.7823673906749926}. Best is trial 54 with value: 2433731.5486045.\n"
     ]
    },
    {
     "name": "stdout",
     "output_type": "stream",
     "text": [
      "Did not meet early stopping. Best iteration is:\n",
      "[572]\tvalid_0's l2: 5.95872e+12\n",
      "[LightGBM] [Warning] feature_fraction is set=0.7645616101850459, colsample_bytree=1.0 will be ignored. Current value: feature_fraction=0.7645616101850459\n",
      "[LightGBM] [Warning] min_data_in_leaf is set=39, min_child_samples=20 will be ignored. Current value: min_data_in_leaf=39\n",
      "Training until validation scores don't improve for 100 rounds\n"
     ]
    },
    {
     "name": "stderr",
     "output_type": "stream",
     "text": [
      "[I 2025-03-21 08:44:31,203] Trial 60 finished with value: 3201432.558465209 and parameters: {'n_estimators': 261, 'learning_rate': 0.0036623049667457233, 'num_leaves': 29, 'max_depth': 9, 'min_data_in_leaf': 39, 'feature_fraction': 0.7645616101850459}. Best is trial 54 with value: 2433731.5486045.\n"
     ]
    },
    {
     "name": "stdout",
     "output_type": "stream",
     "text": [
      "Did not meet early stopping. Best iteration is:\n",
      "[261]\tvalid_0's l2: 1.02492e+13\n",
      "[LightGBM] [Warning] feature_fraction is set=0.7350445411308809, colsample_bytree=1.0 will be ignored. Current value: feature_fraction=0.7350445411308809\n",
      "[LightGBM] [Warning] min_data_in_leaf is set=31, min_child_samples=20 will be ignored. Current value: min_data_in_leaf=31\n",
      "Training until validation scores don't improve for 100 rounds\n"
     ]
    },
    {
     "name": "stderr",
     "output_type": "stream",
     "text": [
      "[I 2025-03-21 08:44:32,989] Trial 61 finished with value: 2433049.280244902 and parameters: {'n_estimators': 631, 'learning_rate': 0.04280582648024738, 'num_leaves': 31, 'max_depth': 9, 'min_data_in_leaf': 31, 'feature_fraction': 0.7350445411308809}. Best is trial 61 with value: 2433049.280244902.\n"
     ]
    },
    {
     "name": "stdout",
     "output_type": "stream",
     "text": [
      "Early stopping, best iteration is:\n",
      "[331]\tvalid_0's l2: 5.91973e+12\n",
      "[LightGBM] [Warning] feature_fraction is set=0.7336202504553602, colsample_bytree=1.0 will be ignored. Current value: feature_fraction=0.7336202504553602\n",
      "[LightGBM] [Warning] min_data_in_leaf is set=27, min_child_samples=20 will be ignored. Current value: min_data_in_leaf=27\n",
      "Training until validation scores don't improve for 100 rounds\n"
     ]
    },
    {
     "name": "stderr",
     "output_type": "stream",
     "text": [
      "[I 2025-03-21 08:44:34,712] Trial 62 finished with value: 2434003.1613430404 and parameters: {'n_estimators': 648, 'learning_rate': 0.035609623539146006, 'num_leaves': 32, 'max_depth': 10, 'min_data_in_leaf': 27, 'feature_fraction': 0.7336202504553602}. Best is trial 61 with value: 2433049.280244902.\n"
     ]
    },
    {
     "name": "stdout",
     "output_type": "stream",
     "text": [
      "Early stopping, best iteration is:\n",
      "[273]\tvalid_0's l2: 5.92437e+12\n",
      "[LightGBM] [Warning] feature_fraction is set=0.7339822845246713, colsample_bytree=1.0 will be ignored. Current value: feature_fraction=0.7339822845246713\n",
      "[LightGBM] [Warning] min_data_in_leaf is set=21, min_child_samples=20 will be ignored. Current value: min_data_in_leaf=21\n",
      "Training until validation scores don't improve for 100 rounds\n"
     ]
    },
    {
     "name": "stderr",
     "output_type": "stream",
     "text": [
      "[I 2025-03-21 08:44:37,115] Trial 63 finished with value: 2429765.972396213 and parameters: {'n_estimators': 598, 'learning_rate': 0.03697936833669793, 'num_leaves': 32, 'max_depth': 10, 'min_data_in_leaf': 21, 'feature_fraction': 0.7339822845246713}. Best is trial 63 with value: 2429765.972396213.\n"
     ]
    },
    {
     "name": "stdout",
     "output_type": "stream",
     "text": [
      "Early stopping, best iteration is:\n",
      "[417]\tvalid_0's l2: 5.90376e+12\n",
      "[LightGBM] [Warning] feature_fraction is set=0.748695878439197, colsample_bytree=1.0 will be ignored. Current value: feature_fraction=0.748695878439197\n",
      "[LightGBM] [Warning] min_data_in_leaf is set=22, min_child_samples=20 will be ignored. Current value: min_data_in_leaf=22\n",
      "Training until validation scores don't improve for 100 rounds\n"
     ]
    },
    {
     "name": "stderr",
     "output_type": "stream",
     "text": [
      "[I 2025-03-21 08:44:39,322] Trial 64 finished with value: 2459433.602446069 and parameters: {'n_estimators': 528, 'learning_rate': 0.03726118402396724, 'num_leaves': 32, 'max_depth': 10, 'min_data_in_leaf': 22, 'feature_fraction': 0.748695878439197}. Best is trial 63 with value: 2429765.972396213.\n"
     ]
    },
    {
     "name": "stdout",
     "output_type": "stream",
     "text": [
      "Did not meet early stopping. Best iteration is:\n",
      "[465]\tvalid_0's l2: 6.04881e+12\n",
      "[LightGBM] [Warning] feature_fraction is set=0.7277509256290807, colsample_bytree=1.0 will be ignored. Current value: feature_fraction=0.7277509256290807\n",
      "[LightGBM] [Warning] min_data_in_leaf is set=22, min_child_samples=20 will be ignored. Current value: min_data_in_leaf=22\n",
      "Training until validation scores don't improve for 100 rounds\n"
     ]
    },
    {
     "name": "stderr",
     "output_type": "stream",
     "text": [
      "[I 2025-03-21 08:44:41,751] Trial 65 finished with value: 2452527.51532425 and parameters: {'n_estimators': 596, 'learning_rate': 0.027469921804292727, 'num_leaves': 34, 'max_depth': 9, 'min_data_in_leaf': 22, 'feature_fraction': 0.7277509256290807}. Best is trial 63 with value: 2429765.972396213.\n"
     ]
    },
    {
     "name": "stdout",
     "output_type": "stream",
     "text": [
      "Early stopping, best iteration is:\n",
      "[474]\tvalid_0's l2: 6.01489e+12\n",
      "[LightGBM] [Warning] feature_fraction is set=0.7367832292576668, colsample_bytree=1.0 will be ignored. Current value: feature_fraction=0.7367832292576668\n",
      "[LightGBM] [Warning] min_data_in_leaf is set=26, min_child_samples=20 will be ignored. Current value: min_data_in_leaf=26\n",
      "Training until validation scores don't improve for 100 rounds\n"
     ]
    },
    {
     "name": "stderr",
     "output_type": "stream",
     "text": [
      "[I 2025-03-21 08:44:43,363] Trial 66 finished with value: 2457131.4801625754 and parameters: {'n_estimators': 644, 'learning_rate': 0.06883395116591204, 'num_leaves': 31, 'max_depth': 10, 'min_data_in_leaf': 26, 'feature_fraction': 0.7367832292576668}. Best is trial 63 with value: 2429765.972396213.\n"
     ]
    },
    {
     "name": "stdout",
     "output_type": "stream",
     "text": [
      "Early stopping, best iteration is:\n",
      "[279]\tvalid_0's l2: 6.0375e+12\n",
      "[LightGBM] [Warning] feature_fraction is set=0.7488441053416764, colsample_bytree=1.0 will be ignored. Current value: feature_fraction=0.7488441053416764\n",
      "[LightGBM] [Warning] min_data_in_leaf is set=20, min_child_samples=20 will be ignored. Current value: min_data_in_leaf=20\n",
      "Training until validation scores don't improve for 100 rounds\n"
     ]
    },
    {
     "name": "stderr",
     "output_type": "stream",
     "text": [
      "[I 2025-03-21 08:44:45,265] Trial 67 finished with value: 2459924.6324253385 and parameters: {'n_estimators': 699, 'learning_rate': 0.04501580781167566, 'num_leaves': 32, 'max_depth': 9, 'min_data_in_leaf': 20, 'feature_fraction': 0.7488441053416764}. Best is trial 63 with value: 2429765.972396213.\n"
     ]
    },
    {
     "name": "stdout",
     "output_type": "stream",
     "text": [
      "Early stopping, best iteration is:\n",
      "[338]\tvalid_0's l2: 6.05123e+12\n",
      "[LightGBM] [Warning] feature_fraction is set=0.7292761622614116, colsample_bytree=1.0 will be ignored. Current value: feature_fraction=0.7292761622614116\n",
      "[LightGBM] [Warning] min_data_in_leaf is set=16, min_child_samples=20 will be ignored. Current value: min_data_in_leaf=16\n",
      "Training until validation scores don't improve for 100 rounds\n"
     ]
    },
    {
     "name": "stderr",
     "output_type": "stream",
     "text": [
      "[I 2025-03-21 08:44:48,833] Trial 68 finished with value: 2439974.363141002 and parameters: {'n_estimators': 602, 'learning_rate': 0.02433922186961689, 'num_leaves': 35, 'max_depth': 10, 'min_data_in_leaf': 16, 'feature_fraction': 0.7292761622614116}. Best is trial 63 with value: 2429765.972396213.\n"
     ]
    },
    {
     "name": "stdout",
     "output_type": "stream",
     "text": [
      "Early stopping, best iteration is:\n",
      "[491]\tvalid_0's l2: 5.95347e+12\n",
      "[LightGBM] [Warning] feature_fraction is set=0.7684720973736756, colsample_bytree=1.0 will be ignored. Current value: feature_fraction=0.7684720973736756\n",
      "[LightGBM] [Warning] min_data_in_leaf is set=28, min_child_samples=20 will be ignored. Current value: min_data_in_leaf=28\n",
      "Training until validation scores don't improve for 100 rounds\n"
     ]
    },
    {
     "name": "stderr",
     "output_type": "stream",
     "text": [
      "[I 2025-03-21 08:44:52,585] Trial 69 finished with value: 2435410.9151265007 and parameters: {'n_estimators': 811, 'learning_rate': 0.034262836992808667, 'num_leaves': 37, 'max_depth': 9, 'min_data_in_leaf': 28, 'feature_fraction': 0.7684720973736756}. Best is trial 63 with value: 2429765.972396213.\n"
     ]
    },
    {
     "name": "stdout",
     "output_type": "stream",
     "text": [
      "Early stopping, best iteration is:\n",
      "[674]\tvalid_0's l2: 5.93123e+12\n",
      "[LightGBM] [Warning] feature_fraction is set=0.771948633046816, colsample_bytree=1.0 will be ignored. Current value: feature_fraction=0.771948633046816\n",
      "[LightGBM] [Warning] min_data_in_leaf is set=28, min_child_samples=20 will be ignored. Current value: min_data_in_leaf=28\n",
      "Training until validation scores don't improve for 100 rounds\n"
     ]
    },
    {
     "name": "stderr",
     "output_type": "stream",
     "text": [
      "[I 2025-03-21 08:44:54,258] Trial 70 finished with value: 2438075.9771847855 and parameters: {'n_estimators': 952, 'learning_rate': 0.03986461837383749, 'num_leaves': 38, 'max_depth': 8, 'min_data_in_leaf': 28, 'feature_fraction': 0.771948633046816}. Best is trial 63 with value: 2429765.972396213.\n"
     ]
    },
    {
     "name": "stdout",
     "output_type": "stream",
     "text": [
      "Early stopping, best iteration is:\n",
      "[263]\tvalid_0's l2: 5.94421e+12\n",
      "[LightGBM] [Warning] feature_fraction is set=0.7554602464688732, colsample_bytree=1.0 will be ignored. Current value: feature_fraction=0.7554602464688732\n",
      "[LightGBM] [Warning] min_data_in_leaf is set=24, min_child_samples=20 will be ignored. Current value: min_data_in_leaf=24\n",
      "Training until validation scores don't improve for 100 rounds\n"
     ]
    },
    {
     "name": "stderr",
     "output_type": "stream",
     "text": [
      "[I 2025-03-21 08:44:56,392] Trial 71 finished with value: 2444785.566920433 and parameters: {'n_estimators': 849, 'learning_rate': 0.02892635894960752, 'num_leaves': 35, 'max_depth': 9, 'min_data_in_leaf': 24, 'feature_fraction': 0.7554602464688732}. Best is trial 63 with value: 2429765.972396213.\n"
     ]
    },
    {
     "name": "stdout",
     "output_type": "stream",
     "text": [
      "Early stopping, best iteration is:\n",
      "[368]\tvalid_0's l2: 5.97698e+12\n",
      "[LightGBM] [Warning] feature_fraction is set=0.7662049037892351, colsample_bytree=1.0 will be ignored. Current value: feature_fraction=0.7662049037892351\n",
      "[LightGBM] [Warning] min_data_in_leaf is set=30, min_child_samples=20 will be ignored. Current value: min_data_in_leaf=30\n",
      "Training until validation scores don't improve for 100 rounds\n"
     ]
    },
    {
     "name": "stderr",
     "output_type": "stream",
     "text": [
      "[I 2025-03-21 08:44:58,316] Trial 72 finished with value: 2432228.0886132256 and parameters: {'n_estimators': 659, 'learning_rate': 0.03437129818542441, 'num_leaves': 37, 'max_depth': 9, 'min_data_in_leaf': 30, 'feature_fraction': 0.7662049037892351}. Best is trial 63 with value: 2429765.972396213.\n"
     ]
    },
    {
     "name": "stdout",
     "output_type": "stream",
     "text": [
      "Early stopping, best iteration is:\n",
      "[314]\tvalid_0's l2: 5.91573e+12\n",
      "[LightGBM] [Warning] feature_fraction is set=0.8001435913914778, colsample_bytree=1.0 will be ignored. Current value: feature_fraction=0.8001435913914778\n",
      "[LightGBM] [Warning] min_data_in_leaf is set=30, min_child_samples=20 will be ignored. Current value: min_data_in_leaf=30\n",
      "Training until validation scores don't improve for 100 rounds\n"
     ]
    },
    {
     "name": "stderr",
     "output_type": "stream",
     "text": [
      "[I 2025-03-21 08:45:00,238] Trial 73 finished with value: 2441083.8474137536 and parameters: {'n_estimators': 800, 'learning_rate': 0.033630776152848256, 'num_leaves': 38, 'max_depth': 10, 'min_data_in_leaf': 30, 'feature_fraction': 0.8001435913914778}. Best is trial 63 with value: 2429765.972396213.\n"
     ]
    },
    {
     "name": "stdout",
     "output_type": "stream",
     "text": [
      "Early stopping, best iteration is:\n",
      "[271]\tvalid_0's l2: 5.95889e+12\n",
      "[LightGBM] [Warning] feature_fraction is set=0.7843816068420825, colsample_bytree=1.0 will be ignored. Current value: feature_fraction=0.7843816068420825\n",
      "[LightGBM] [Warning] min_data_in_leaf is set=26, min_child_samples=20 will be ignored. Current value: min_data_in_leaf=26\n",
      "Training until validation scores don't improve for 100 rounds\n"
     ]
    },
    {
     "name": "stderr",
     "output_type": "stream",
     "text": [
      "[I 2025-03-21 08:45:02,089] Trial 74 finished with value: 2449355.7078242493 and parameters: {'n_estimators': 878, 'learning_rate': 0.05181788539841906, 'num_leaves': 40, 'max_depth': 10, 'min_data_in_leaf': 26, 'feature_fraction': 0.7843816068420825}. Best is trial 63 with value: 2429765.972396213.\n"
     ]
    },
    {
     "name": "stdout",
     "output_type": "stream",
     "text": [
      "Early stopping, best iteration is:\n",
      "[279]\tvalid_0's l2: 5.99934e+12\n",
      "[LightGBM] [Warning] feature_fraction is set=0.7659700194276701, colsample_bytree=1.0 will be ignored. Current value: feature_fraction=0.7659700194276701\n",
      "[LightGBM] [Warning] min_data_in_leaf is set=28, min_child_samples=20 will be ignored. Current value: min_data_in_leaf=28\n",
      "Training until validation scores don't improve for 100 rounds\n"
     ]
    },
    {
     "name": "stderr",
     "output_type": "stream",
     "text": [
      "[I 2025-03-21 08:45:04,019] Trial 75 finished with value: 2445729.3020806396 and parameters: {'n_estimators': 728, 'learning_rate': 0.043196017815185665, 'num_leaves': 30, 'max_depth': 8, 'min_data_in_leaf': 28, 'feature_fraction': 0.7659700194276701}. Best is trial 63 with value: 2429765.972396213.\n"
     ]
    },
    {
     "name": "stdout",
     "output_type": "stream",
     "text": [
      "Early stopping, best iteration is:\n",
      "[388]\tvalid_0's l2: 5.98159e+12\n",
      "[LightGBM] [Warning] feature_fraction is set=0.8158531992416639, colsample_bytree=1.0 will be ignored. Current value: feature_fraction=0.8158531992416639\n",
      "[LightGBM] [Warning] min_data_in_leaf is set=31, min_child_samples=20 will be ignored. Current value: min_data_in_leaf=31\n",
      "Training until validation scores don't improve for 100 rounds\n"
     ]
    },
    {
     "name": "stderr",
     "output_type": "stream",
     "text": [
      "[I 2025-03-21 08:45:05,838] Trial 76 finished with value: 2445893.6945808795 and parameters: {'n_estimators': 656, 'learning_rate': 0.03636421703393154, 'num_leaves': 37, 'max_depth': 9, 'min_data_in_leaf': 31, 'feature_fraction': 0.8158531992416639}. Best is trial 63 with value: 2429765.972396213.\n"
     ]
    },
    {
     "name": "stdout",
     "output_type": "stream",
     "text": [
      "Early stopping, best iteration is:\n",
      "[272]\tvalid_0's l2: 5.9824e+12\n",
      "[LightGBM] [Warning] feature_fraction is set=0.7148185153614494, colsample_bytree=1.0 will be ignored. Current value: feature_fraction=0.7148185153614494\n",
      "[LightGBM] [Warning] min_data_in_leaf is set=29, min_child_samples=20 will be ignored. Current value: min_data_in_leaf=29\n",
      "Training until validation scores don't improve for 100 rounds\n"
     ]
    },
    {
     "name": "stderr",
     "output_type": "stream",
     "text": [
      "[I 2025-03-21 08:45:07,403] Trial 77 finished with value: 2441100.7006406602 and parameters: {'n_estimators': 518, 'learning_rate': 0.05807795639645826, 'num_leaves': 28, 'max_depth': 9, 'min_data_in_leaf': 29, 'feature_fraction': 0.7148185153614494}. Best is trial 63 with value: 2429765.972396213.\n"
     ]
    },
    {
     "name": "stdout",
     "output_type": "stream",
     "text": [
      "Early stopping, best iteration is:\n",
      "[314]\tvalid_0's l2: 5.95897e+12\n",
      "[LightGBM] [Warning] feature_fraction is set=0.7427918503243723, colsample_bytree=1.0 will be ignored. Current value: feature_fraction=0.7427918503243723\n",
      "[LightGBM] [Warning] min_data_in_leaf is set=23, min_child_samples=20 will be ignored. Current value: min_data_in_leaf=23\n",
      "Training until validation scores don't improve for 100 rounds\n"
     ]
    },
    {
     "name": "stderr",
     "output_type": "stream",
     "text": [
      "[I 2025-03-21 08:45:08,828] Trial 78 finished with value: 2469423.1291547837 and parameters: {'n_estimators': 468, 'learning_rate': 0.0726212878312523, 'num_leaves': 43, 'max_depth': 10, 'min_data_in_leaf': 23, 'feature_fraction': 0.7427918503243723}. Best is trial 63 with value: 2429765.972396213.\n"
     ]
    },
    {
     "name": "stdout",
     "output_type": "stream",
     "text": [
      "Early stopping, best iteration is:\n",
      "[175]\tvalid_0's l2: 6.09805e+12\n",
      "[LightGBM] [Warning] feature_fraction is set=0.7740625383623079, colsample_bytree=1.0 will be ignored. Current value: feature_fraction=0.7740625383623079\n",
      "[LightGBM] [Warning] min_data_in_leaf is set=18, min_child_samples=20 will be ignored. Current value: min_data_in_leaf=18\n",
      "Training until validation scores don't improve for 100 rounds\n"
     ]
    },
    {
     "name": "stderr",
     "output_type": "stream",
     "text": [
      "[I 2025-03-21 08:45:11,074] Trial 79 finished with value: 2442930.245370657 and parameters: {'n_estimators': 577, 'learning_rate': 0.029170632351927923, 'num_leaves': 32, 'max_depth': 8, 'min_data_in_leaf': 18, 'feature_fraction': 0.7740625383623079}. Best is trial 63 with value: 2429765.972396213.\n"
     ]
    },
    {
     "name": "stdout",
     "output_type": "stream",
     "text": [
      "Early stopping, best iteration is:\n",
      "[429]\tvalid_0's l2: 5.96791e+12\n",
      "[LightGBM] [Warning] feature_fraction is set=0.7888282337982816, colsample_bytree=1.0 will be ignored. Current value: feature_fraction=0.7888282337982816\n",
      "[LightGBM] [Warning] min_data_in_leaf is set=26, min_child_samples=20 will be ignored. Current value: min_data_in_leaf=26\n",
      "Training until validation scores don't improve for 100 rounds\n"
     ]
    },
    {
     "name": "stderr",
     "output_type": "stream",
     "text": [
      "[I 2025-03-21 08:45:14,139] Trial 80 finished with value: 2460468.992177729 and parameters: {'n_estimators': 686, 'learning_rate': 0.022533754559805795, 'num_leaves': 34, 'max_depth': 9, 'min_data_in_leaf': 26, 'feature_fraction': 0.7888282337982816}. Best is trial 63 with value: 2429765.972396213.\n"
     ]
    },
    {
     "name": "stdout",
     "output_type": "stream",
     "text": [
      "Did not meet early stopping. Best iteration is:\n",
      "[608]\tvalid_0's l2: 6.05391e+12\n",
      "[LightGBM] [Warning] feature_fraction is set=0.7559571561295189, colsample_bytree=1.0 will be ignored. Current value: feature_fraction=0.7559571561295189\n",
      "[LightGBM] [Warning] min_data_in_leaf is set=32, min_child_samples=20 will be ignored. Current value: min_data_in_leaf=32\n",
      "Training until validation scores don't improve for 100 rounds\n"
     ]
    },
    {
     "name": "stderr",
     "output_type": "stream",
     "text": [
      "[I 2025-03-21 08:45:16,897] Trial 81 finished with value: 2445571.737871704 and parameters: {'n_estimators': 609, 'learning_rate': 0.01656480856876203, 'num_leaves': 37, 'max_depth': 9, 'min_data_in_leaf': 32, 'feature_fraction': 0.7559571561295189}. Best is trial 63 with value: 2429765.972396213.\n"
     ]
    },
    {
     "name": "stdout",
     "output_type": "stream",
     "text": [
      "Did not meet early stopping. Best iteration is:\n",
      "[603]\tvalid_0's l2: 5.98082e+12\n",
      "[LightGBM] [Warning] feature_fraction is set=0.733207114093602, colsample_bytree=1.0 will be ignored. Current value: feature_fraction=0.733207114093602\n",
      "[LightGBM] [Warning] min_data_in_leaf is set=30, min_child_samples=20 will be ignored. Current value: min_data_in_leaf=30\n",
      "Training until validation scores don't improve for 100 rounds\n"
     ]
    },
    {
     "name": "stderr",
     "output_type": "stream",
     "text": [
      "[I 2025-03-21 08:45:18,657] Trial 82 finished with value: 2453858.801851166 and parameters: {'n_estimators': 562, 'learning_rate': 0.033877685473376794, 'num_leaves': 33, 'max_depth': 9, 'min_data_in_leaf': 30, 'feature_fraction': 0.733207114093602}. Best is trial 63 with value: 2429765.972396213.\n"
     ]
    },
    {
     "name": "stdout",
     "output_type": "stream",
     "text": [
      "Early stopping, best iteration is:\n",
      "[295]\tvalid_0's l2: 6.02142e+12\n",
      "[LightGBM] [Warning] feature_fraction is set=0.7456778800022009, colsample_bytree=1.0 will be ignored. Current value: feature_fraction=0.7456778800022009\n",
      "[LightGBM] [Warning] min_data_in_leaf is set=13, min_child_samples=20 will be ignored. Current value: min_data_in_leaf=13\n",
      "Training until validation scores don't improve for 100 rounds\n"
     ]
    },
    {
     "name": "stderr",
     "output_type": "stream",
     "text": [
      "[I 2025-03-21 08:45:21,612] Trial 83 finished with value: 2445741.206533606 and parameters: {'n_estimators': 650, 'learning_rate': 0.018681962026264393, 'num_leaves': 36, 'max_depth': 9, 'min_data_in_leaf': 13, 'feature_fraction': 0.7456778800022009}. Best is trial 63 with value: 2429765.972396213.\n"
     ]
    },
    {
     "name": "stdout",
     "output_type": "stream",
     "text": [
      "Did not meet early stopping. Best iteration is:\n",
      "[650]\tvalid_0's l2: 5.98165e+12\n",
      "[LightGBM] [Warning] feature_fraction is set=0.7610814647079379, colsample_bytree=1.0 will be ignored. Current value: feature_fraction=0.7610814647079379\n",
      "[LightGBM] [Warning] min_data_in_leaf is set=33, min_child_samples=20 will be ignored. Current value: min_data_in_leaf=33\n",
      "Training until validation scores don't improve for 100 rounds\n"
     ]
    },
    {
     "name": "stderr",
     "output_type": "stream",
     "text": [
      "[I 2025-03-21 08:45:23,423] Trial 84 finished with value: 2444687.8449012428 and parameters: {'n_estimators': 592, 'learning_rate': 0.050954871774274456, 'num_leaves': 46, 'max_depth': 10, 'min_data_in_leaf': 33, 'feature_fraction': 0.7610814647079379}. Best is trial 63 with value: 2429765.972396213.\n"
     ]
    },
    {
     "name": "stdout",
     "output_type": "stream",
     "text": [
      "Early stopping, best iteration is:\n",
      "[266]\tvalid_0's l2: 5.9765e+12\n",
      "[LightGBM] [Warning] feature_fraction is set=0.7395037721370673, colsample_bytree=1.0 will be ignored. Current value: feature_fraction=0.7395037721370673\n",
      "[LightGBM] [Warning] min_data_in_leaf is set=27, min_child_samples=20 will be ignored. Current value: min_data_in_leaf=27\n",
      "Training until validation scores don't improve for 100 rounds\n"
     ]
    },
    {
     "name": "stderr",
     "output_type": "stream",
     "text": [
      "[I 2025-03-21 08:45:25,734] Trial 85 finished with value: 2444221.608490241 and parameters: {'n_estimators': 621, 'learning_rate': 0.02642712346875733, 'num_leaves': 29, 'max_depth': 8, 'min_data_in_leaf': 27, 'feature_fraction': 0.7395037721370673}. Best is trial 63 with value: 2429765.972396213.\n"
     ]
    },
    {
     "name": "stdout",
     "output_type": "stream",
     "text": [
      "Did not meet early stopping. Best iteration is:\n",
      "[539]\tvalid_0's l2: 5.97422e+12\n",
      "[LightGBM] [Warning] feature_fraction is set=0.7684094769158445, colsample_bytree=1.0 will be ignored. Current value: feature_fraction=0.7684094769158445\n",
      "[LightGBM] [Warning] min_data_in_leaf is set=29, min_child_samples=20 will be ignored. Current value: min_data_in_leaf=29\n",
      "Training until validation scores don't improve for 100 rounds\n"
     ]
    },
    {
     "name": "stderr",
     "output_type": "stream",
     "text": [
      "[I 2025-03-21 08:45:27,822] Trial 86 finished with value: 2421353.151272604 and parameters: {'n_estimators': 696, 'learning_rate': 0.040548469254529804, 'num_leaves': 40, 'max_depth': 9, 'min_data_in_leaf': 29, 'feature_fraction': 0.7684094769158445}. Best is trial 86 with value: 2421353.151272604.\n"
     ]
    },
    {
     "name": "stdout",
     "output_type": "stream",
     "text": [
      "Early stopping, best iteration is:\n",
      "[376]\tvalid_0's l2: 5.86295e+12\n",
      "[LightGBM] [Warning] feature_fraction is set=0.7694338055721397, colsample_bytree=1.0 will be ignored. Current value: feature_fraction=0.7694338055721397\n",
      "[LightGBM] [Warning] min_data_in_leaf is set=31, min_child_samples=20 will be ignored. Current value: min_data_in_leaf=31\n",
      "Training until validation scores don't improve for 100 rounds\n"
     ]
    },
    {
     "name": "stderr",
     "output_type": "stream",
     "text": [
      "[I 2025-03-21 08:45:29,743] Trial 87 finished with value: 2451637.9782549627 and parameters: {'n_estimators': 824, 'learning_rate': 0.040782180288488235, 'num_leaves': 40, 'max_depth': 10, 'min_data_in_leaf': 31, 'feature_fraction': 0.7694338055721397}. Best is trial 86 with value: 2421353.151272604.\n"
     ]
    },
    {
     "name": "stdout",
     "output_type": "stream",
     "text": [
      "Early stopping, best iteration is:\n",
      "[303]\tvalid_0's l2: 6.01053e+12\n",
      "[LightGBM] [Warning] feature_fraction is set=0.8446095672685746, colsample_bytree=1.0 will be ignored. Current value: feature_fraction=0.8446095672685746\n",
      "[LightGBM] [Warning] min_data_in_leaf is set=29, min_child_samples=20 will be ignored. Current value: min_data_in_leaf=29\n",
      "Training until validation scores don't improve for 100 rounds\n"
     ]
    },
    {
     "name": "stderr",
     "output_type": "stream",
     "text": [
      "[I 2025-03-21 08:45:31,116] Trial 88 finished with value: 2476322.3322683363 and parameters: {'n_estimators': 756, 'learning_rate': 0.08584776956042053, 'num_leaves': 39, 'max_depth': 9, 'min_data_in_leaf': 29, 'feature_fraction': 0.8446095672685746}. Best is trial 86 with value: 2421353.151272604.\n"
     ]
    },
    {
     "name": "stdout",
     "output_type": "stream",
     "text": [
      "Early stopping, best iteration is:\n",
      "[175]\tvalid_0's l2: 6.13217e+12\n",
      "[LightGBM] [Warning] feature_fraction is set=0.7087421273213517, colsample_bytree=1.0 will be ignored. Current value: feature_fraction=0.7087421273213517\n",
      "[LightGBM] [Warning] min_data_in_leaf is set=25, min_child_samples=20 will be ignored. Current value: min_data_in_leaf=25\n",
      "Training until validation scores don't improve for 100 rounds\n"
     ]
    },
    {
     "name": "stderr",
     "output_type": "stream",
     "text": [
      "[I 2025-03-21 08:45:33,239] Trial 89 finished with value: 2472245.406160108 and parameters: {'n_estimators': 706, 'learning_rate': 0.048154604130425376, 'num_leaves': 30, 'max_depth': 10, 'min_data_in_leaf': 25, 'feature_fraction': 0.7087421273213517}. Best is trial 86 with value: 2421353.151272604.\n"
     ]
    },
    {
     "name": "stdout",
     "output_type": "stream",
     "text": [
      "Early stopping, best iteration is:\n",
      "[440]\tvalid_0's l2: 6.112e+12\n",
      "[LightGBM] [Warning] feature_fraction is set=0.7957388751821933, colsample_bytree=1.0 will be ignored. Current value: feature_fraction=0.7957388751821933\n",
      "[LightGBM] [Warning] min_data_in_leaf is set=35, min_child_samples=20 will be ignored. Current value: min_data_in_leaf=35\n",
      "Training until validation scores don't improve for 100 rounds\n"
     ]
    },
    {
     "name": "stderr",
     "output_type": "stream",
     "text": [
      "[I 2025-03-21 08:45:34,511] Trial 90 finished with value: 2462725.222727046 and parameters: {'n_estimators': 780, 'learning_rate': 0.06462327872905396, 'num_leaves': 31, 'max_depth': 9, 'min_data_in_leaf': 35, 'feature_fraction': 0.7957388751821933}. Best is trial 86 with value: 2421353.151272604.\n"
     ]
    },
    {
     "name": "stdout",
     "output_type": "stream",
     "text": [
      "Early stopping, best iteration is:\n",
      "[176]\tvalid_0's l2: 6.06502e+12\n",
      "[LightGBM] [Warning] feature_fraction is set=0.7198357333924691, colsample_bytree=1.0 will be ignored. Current value: feature_fraction=0.7198357333924691\n",
      "[LightGBM] [Warning] min_data_in_leaf is set=45, min_child_samples=20 will be ignored. Current value: min_data_in_leaf=45\n",
      "Training until validation scores don't improve for 100 rounds\n"
     ]
    },
    {
     "name": "stderr",
     "output_type": "stream",
     "text": [
      "[I 2025-03-21 08:45:36,862] Trial 91 finished with value: 2470742.232743999 and parameters: {'n_estimators': 659, 'learning_rate': 0.03529055778860432, 'num_leaves': 41, 'max_depth': 9, 'min_data_in_leaf': 45, 'feature_fraction': 0.7198357333924691}. Best is trial 86 with value: 2421353.151272604.\n"
     ]
    },
    {
     "name": "stdout",
     "output_type": "stream",
     "text": [
      "Early stopping, best iteration is:\n",
      "[490]\tvalid_0's l2: 6.10457e+12\n",
      "[LightGBM] [Warning] feature_fraction is set=0.750731745491662, colsample_bytree=1.0 will be ignored. Current value: feature_fraction=0.750731745491662\n",
      "[LightGBM] [Warning] min_data_in_leaf is set=27, min_child_samples=20 will be ignored. Current value: min_data_in_leaf=27\n",
      "Training until validation scores don't improve for 100 rounds\n"
     ]
    },
    {
     "name": "stderr",
     "output_type": "stream",
     "text": [
      "[I 2025-03-21 08:45:39,086] Trial 92 finished with value: 2436968.9189989385 and parameters: {'n_estimators': 631, 'learning_rate': 0.0303771958909575, 'num_leaves': 36, 'max_depth': 8, 'min_data_in_leaf': 27, 'feature_fraction': 0.750731745491662}. Best is trial 86 with value: 2421353.151272604.\n"
     ]
    },
    {
     "name": "stdout",
     "output_type": "stream",
     "text": [
      "Early stopping, best iteration is:\n",
      "[404]\tvalid_0's l2: 5.93882e+12\n",
      "[LightGBM] [Warning] feature_fraction is set=0.8080656245850704, colsample_bytree=1.0 will be ignored. Current value: feature_fraction=0.8080656245850704\n",
      "[LightGBM] [Warning] min_data_in_leaf is set=27, min_child_samples=20 will be ignored. Current value: min_data_in_leaf=27\n",
      "Training until validation scores don't improve for 100 rounds\n"
     ]
    },
    {
     "name": "stderr",
     "output_type": "stream",
     "text": [
      "[I 2025-03-21 08:45:41,326] Trial 93 finished with value: 2450704.023127175 and parameters: {'n_estimators': 682, 'learning_rate': 0.042595134790748744, 'num_leaves': 32, 'max_depth': 8, 'min_data_in_leaf': 27, 'feature_fraction': 0.8080656245850704}. Best is trial 86 with value: 2421353.151272604.\n"
     ]
    },
    {
     "name": "stdout",
     "output_type": "stream",
     "text": [
      "Early stopping, best iteration is:\n",
      "[462]\tvalid_0's l2: 6.00595e+12\n",
      "[LightGBM] [Warning] feature_fraction is set=0.7794052523471768, colsample_bytree=1.0 will be ignored. Current value: feature_fraction=0.7794052523471768\n",
      "[LightGBM] [Warning] min_data_in_leaf is set=28, min_child_samples=20 will be ignored. Current value: min_data_in_leaf=28\n",
      "Training until validation scores don't improve for 100 rounds\n"
     ]
    },
    {
     "name": "stderr",
     "output_type": "stream",
     "text": [
      "[I 2025-03-21 08:45:43,750] Trial 94 finished with value: 2438350.4021033286 and parameters: {'n_estimators': 628, 'learning_rate': 0.029771863107092032, 'num_leaves': 39, 'max_depth': 8, 'min_data_in_leaf': 28, 'feature_fraction': 0.7794052523471768}. Best is trial 86 with value: 2421353.151272604.\n"
     ]
    },
    {
     "name": "stdout",
     "output_type": "stream",
     "text": [
      "Did not meet early stopping. Best iteration is:\n",
      "[587]\tvalid_0's l2: 5.94555e+12\n",
      "[LightGBM] [Warning] feature_fraction is set=0.7253109660163503, colsample_bytree=1.0 will be ignored. Current value: feature_fraction=0.7253109660163503\n",
      "[LightGBM] [Warning] min_data_in_leaf is set=32, min_child_samples=20 will be ignored. Current value: min_data_in_leaf=32\n",
      "Training until validation scores don't improve for 100 rounds\n"
     ]
    },
    {
     "name": "stderr",
     "output_type": "stream",
     "text": [
      "[I 2025-03-21 08:45:44,973] Trial 95 finished with value: 2474744.8885283507 and parameters: {'n_estimators': 548, 'learning_rate': 0.059104208139451136, 'num_leaves': 35, 'max_depth': 7, 'min_data_in_leaf': 32, 'feature_fraction': 0.7253109660163503}. Best is trial 86 with value: 2421353.151272604.\n"
     ]
    },
    {
     "name": "stdout",
     "output_type": "stream",
     "text": [
      "Early stopping, best iteration is:\n",
      "[195]\tvalid_0's l2: 6.12436e+12\n",
      "[LightGBM] [Warning] feature_fraction is set=0.7497651826140808, colsample_bytree=1.0 will be ignored. Current value: feature_fraction=0.7497651826140808\n",
      "[LightGBM] [Warning] min_data_in_leaf is set=30, min_child_samples=20 will be ignored. Current value: min_data_in_leaf=30\n",
      "Training until validation scores don't improve for 100 rounds\n"
     ]
    },
    {
     "name": "stderr",
     "output_type": "stream",
     "text": [
      "[I 2025-03-21 08:45:46,781] Trial 96 finished with value: 2458775.1741248607 and parameters: {'n_estimators': 662, 'learning_rate': 0.037854230760287676, 'num_leaves': 37, 'max_depth': 9, 'min_data_in_leaf': 30, 'feature_fraction': 0.7497651826140808}. Best is trial 86 with value: 2421353.151272604.\n"
     ]
    },
    {
     "name": "stdout",
     "output_type": "stream",
     "text": [
      "Early stopping, best iteration is:\n",
      "[273]\tvalid_0's l2: 6.04558e+12\n",
      "[LightGBM] [Warning] feature_fraction is set=0.7673100535695162, colsample_bytree=1.0 will be ignored. Current value: feature_fraction=0.7673100535695162\n",
      "[LightGBM] [Warning] min_data_in_leaf is set=23, min_child_samples=20 will be ignored. Current value: min_data_in_leaf=23\n",
      "Training until validation scores don't improve for 100 rounds\n"
     ]
    },
    {
     "name": "stderr",
     "output_type": "stream",
     "text": [
      "[I 2025-03-21 08:45:48,057] Trial 97 finished with value: 2468235.5988529767 and parameters: {'n_estimators': 724, 'learning_rate': 0.05352093663343094, 'num_leaves': 28, 'max_depth': 4, 'min_data_in_leaf': 23, 'feature_fraction': 0.7673100535695162}. Best is trial 86 with value: 2421353.151272604.\n"
     ]
    },
    {
     "name": "stdout",
     "output_type": "stream",
     "text": [
      "Early stopping, best iteration is:\n",
      "[374]\tvalid_0's l2: 6.09219e+12\n",
      "[LightGBM] [Warning] feature_fraction is set=0.7344860171645268, colsample_bytree=1.0 will be ignored. Current value: feature_fraction=0.7344860171645268\n",
      "[LightGBM] [Warning] min_data_in_leaf is set=25, min_child_samples=20 will be ignored. Current value: min_data_in_leaf=25\n",
      "Training until validation scores don't improve for 100 rounds\n"
     ]
    },
    {
     "name": "stderr",
     "output_type": "stream",
     "text": [
      "[I 2025-03-21 08:45:49,641] Trial 98 finished with value: 2445605.1024942654 and parameters: {'n_estimators': 607, 'learning_rate': 0.04119234976722323, 'num_leaves': 26, 'max_depth': 10, 'min_data_in_leaf': 25, 'feature_fraction': 0.7344860171645268}. Best is trial 86 with value: 2421353.151272604.\n"
     ]
    },
    {
     "name": "stdout",
     "output_type": "stream",
     "text": [
      "Early stopping, best iteration is:\n",
      "[282]\tvalid_0's l2: 5.98098e+12\n",
      "[LightGBM] [Warning] feature_fraction is set=0.7583426312856536, colsample_bytree=1.0 will be ignored. Current value: feature_fraction=0.7583426312856536\n",
      "[LightGBM] [Warning] min_data_in_leaf is set=29, min_child_samples=20 will be ignored. Current value: min_data_in_leaf=29\n",
      "Training until validation scores don't improve for 100 rounds\n"
     ]
    },
    {
     "name": "stderr",
     "output_type": "stream",
     "text": [
      "[I 2025-03-21 08:45:50,958] Trial 99 finished with value: 2508512.1293527773 and parameters: {'n_estimators': 700, 'learning_rate': 0.02288516211038906, 'num_leaves': 33, 'max_depth': 3, 'min_data_in_leaf': 29, 'feature_fraction': 0.7583426312856536}. Best is trial 86 with value: 2421353.151272604.\n"
     ]
    },
    {
     "name": "stdout",
     "output_type": "stream",
     "text": [
      "Did not meet early stopping. Best iteration is:\n",
      "[691]\tvalid_0's l2: 6.29263e+12\n"
     ]
    }
   ],
   "source": [
    "import optuna\n",
    "from lightgbm import LGBMRegressor, early_stopping\n",
    "from sklearn.metrics import mean_squared_error\n",
    "\n",
    "def objective(trial):\n",
    "    param = {\n",
    "        'n_estimators': trial.suggest_int('n_estimators', 100, 1000),\n",
    "        'learning_rate': trial.suggest_float('learning_rate', 0.001, 0.1, log=True),  # Fixed\n",
    "        'num_leaves': trial.suggest_int('num_leaves', 20, 50),\n",
    "        'max_depth': trial.suggest_int('max_depth', 3, 10),\n",
    "        'min_data_in_leaf': trial.suggest_int('min_data_in_leaf', 10, 50),\n",
    "        'feature_fraction': trial.suggest_float('feature_fraction', 0.7, 1.0),\n",
    "    }\n",
    "\n",
    "    model = LGBMRegressor(**param)\n",
    "    \n",
    "    # Corrected .fit() call\n",
    "    model.fit(X_train, y_train, eval_set=[(X_val, y_val)], callbacks=[early_stopping(stopping_rounds=100)])\n",
    "    \n",
    "    preds = model.predict(X_val)\n",
    "    rmse = mean_squared_error(y_val, preds) ** 0.5  # Compute RMSE manually\n",
    "    return rmse\n",
    "\n",
    "study = optuna.create_study(direction='minimize')\n",
    "study.optimize(objective, n_trials=100)"
   ]
  },
  {
   "cell_type": "code",
   "execution_count": null,
   "metadata": {},
   "outputs": [],
   "source": []
  }
 ],
 "metadata": {
  "kernelspec": {
   "display_name": "GPU",
   "language": "python",
   "name": "python3"
  },
  "language_info": {
   "codemirror_mode": {
    "name": "ipython",
    "version": 3
   },
   "file_extension": ".py",
   "mimetype": "text/x-python",
   "name": "python",
   "nbconvert_exporter": "python",
   "pygments_lexer": "ipython3",
   "version": "3.9.21"
  }
 },
 "nbformat": 4,
 "nbformat_minor": 2
}
